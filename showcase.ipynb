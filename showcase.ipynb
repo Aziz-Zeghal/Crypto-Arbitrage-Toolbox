{
 "cells": [
  {
   "cell_type": "markdown",
   "metadata": {},
   "source": [
    "# Showcase of Bybit Future - Future calc\n",
    "The Bybitmaster has custom methods that I coded, but can also make normal request to the Bybit API with the session attribute."
   ]
  },
  {
   "cell_type": "code",
   "execution_count": 2,
   "metadata": {},
   "outputs": [
    {
     "name": "stdout",
     "output_type": "stream",
     "text": [
      "\u001b[36m2024-12-13 23:09:01,234\u001b[0m - root - \u001b[32mINFO\u001b[0m - Global logging configuration applied with verbosity level 1\n",
      "\u001b[36m2024-12-13 23:09:01,236\u001b[0m - greekMaster - \u001b[32mINFO\u001b[0m - GreekMaster initialized\n"
     ]
    }
   ],
   "source": [
    "# Inside of the module, we use absolute imports\n",
    "# Because this context is different, we need to add inside the PYTHONPATH the path of the module\n",
    "import sys\n",
    "sys.path.append('Bybit')\n",
    "\n",
    "from Bybit.greekMaster import GreekMaster\n",
    "import Bybit.utils\n",
    "\n",
    "Bybit.utils.configure_logging(run_name=\"save_klines.log\", verbose=1)\n",
    "\n",
    "# Create a Bybit master\n",
    "master = GreekMaster(demo=True)"
   ]
  },
  {
   "cell_type": "code",
   "execution_count": null,
   "metadata": {},
   "outputs": [],
   "source": [
    "# Get all futures BTC gaps\n",
    "DataWrangler = master.all_gaps_pd(inverse=False, perpetual=True, pretty=True, applyFees=True)\n",
    "DataWrangler"
   ]
  },
  {
   "cell_type": "code",
   "execution_count": 31,
   "metadata": {},
   "outputs": [
    {
     "name": "stdout",
     "output_type": "stream",
     "text": [
      "\u001b[36m2024-12-13 23:23:33,256\u001b[0m - greekMaster.client.fetcher - \u001b[32mINFO\u001b[0m - Fetching data for \u001b[38;5;214mBTCUSDH25\u001b[0m.\n",
      "\u001b[36m2024-12-13 23:23:33,269\u001b[0m - greekMaster.client.fetcher - \u001b[32mINFO\u001b[0m - Loaded 8798 existing data points.\n",
      "\u001b[36m2024-12-13 23:23:33,769\u001b[0m - greekMaster.client.fetcher - \u001b[32mINFO\u001b[0m - Fetched 1 new data points.\n"
     ]
    },
    {
     "data": {
      "text/plain": [
       "'19/06/1969'"
      ]
     },
     "execution_count": 31,
     "metadata": {},
     "output_type": "execute_result"
    }
   ],
   "source": [
    "await master.client.fetcher.get_history_pd(\"BTCUSDH25\", category=\"linear\", interval=\"15\")\n",
    "fig, df = Bybit.utils.plot_candles(\"BTCUSDH25_15.parquet\")\n",
    "fig\n",
    "\n",
    "# master.client.fetcher.session.get_instruments_info(symbol=\"BTCUSDH25\", category=\"inverse\")\n",
    "\n",
    "# Bybit.utils.get_date(1743148800000)\n",
    "# start = Bybit.utils.get_date(1726214400000)"
   ]
  },
  {
   "cell_type": "markdown",
   "metadata": {},
   "source": [
    "## Tester\n",
    "Just to run some tests"
   ]
  },
  {
   "cell_type": "code",
   "execution_count": null,
   "metadata": {},
   "outputs": [],
   "source": [
    "# 1 - Simple enter position logic (given a future and a perpetual)\n",
    "# 2 - Simple exit position logic (given a future and a perpetual). Can also exit when reaching a satisfying unexpected gap\n",
    "# 3 - Logic to activate both operations (given a future and a perpetual). Enter again when reaching a satisfying unexpected gap\n",
    "# 4 - Logic to find the best future and perpetual to trade\n",
    "# 5 - Logic to keep the loop running\n",
    "# 6 - Monitoring features\n",
    "# 7 - Use systemctl to launch 24/7\n",
    "# We use sockets, once we selected the best local future, compared to their average gap.\n",
    "# Shared state to store the latest updates"
   ]
  },
  {
   "cell_type": "markdown",
   "metadata": {},
   "source": [
    "## Fetching time :)\n",
    "\n",
    "Getting 15, 5 and 1 minute candles for everything since 01/01/2024"
   ]
  },
  {
   "cell_type": "code",
   "execution_count": null,
   "metadata": {},
   "outputs": [],
   "source": [
    "# Future contracts\n",
    "await master.save_klines(dest=\"store\")"
   ]
  },
  {
   "cell_type": "markdown",
   "metadata": {},
   "source": [
    "## Plot testing\n",
    "\n",
    "Part to test the plot of the data.\n"
   ]
  },
  {
   "cell_type": "code",
   "execution_count": null,
   "metadata": {},
   "outputs": [],
   "source": [
    "# Yes\n",
    "master.client.fetcher.get_futureNames(quoteCoins=[\"USDT\"])\n"
   ]
  },
  {
   "cell_type": "markdown",
   "metadata": {},
   "source": [
    "## Long Spot x Short Future\n",
    "\n",
    "Spot USDC is 0% fees and Future is 0.0550% taker fees (0% with contract delivery).\n",
    "Problem is that spot cannot be used with leverage. Could borrow but that would be awkward. (tried it)"
   ]
  },
  {
   "cell_type": "code",
   "execution_count": null,
   "metadata": {},
   "outputs": [],
   "source": [
    "Bybit.utils.load_klines_parquet(\"store/BTCUSDT_1.parquet\", pretty=True)\n",
    "\n",
    "Bybit.utils.plot_compare(\"store/BTCUSDT_1.parquet\", \"store/BTC-28FEB25_1.parquet\")"
   ]
  },
  {
   "cell_type": "code",
   "execution_count": null,
   "metadata": {},
   "outputs": [],
   "source": [
    "# Long position, then short position\n",
    "Bybit.utils.plot_compare(\"store/BTCUSDT_1.parquet\", \"store/BTC-15NOV24_1.parquet\")"
   ]
  },
  {
   "cell_type": "markdown",
   "metadata": {},
   "source": [
    "## Long Perpetual x Short Future\n",
    "\n",
    "Perpetual USDT is 0.0550% taker fees and Future is 0.0550% taker fees (0% with contract delivery).\n",
    "Yes we have fees, but wen can use leverage on both sides.\n",
    "\n",
    "We use Perpetual USDT because there is more liquidity."
   ]
  },
  {
   "cell_type": "code",
   "execution_count": null,
   "metadata": {},
   "outputs": [],
   "source": [
    "Bybit.utils.plot_compare(\"store/BTCPERP_5.parquet\", \"store/BTC-29NOV24_5.parquet\")"
   ]
  },
  {
   "cell_type": "code",
   "execution_count": null,
   "metadata": {},
   "outputs": [],
   "source": [
    "Bybit.utils.plot_compare(\"store/BTCUSDT_5.parquet\", \"store/BTC-29NOV24_5.parquet\")"
   ]
  },
  {
   "cell_type": "markdown",
   "metadata": {},
   "source": [
    "## Long Spot x Short Inverse Future\n",
    "\n",
    "What if I buy spot and collateralize it to short inverse future?\n",
    "We effectively capture the difference."
   ]
  },
  {
   "cell_type": "code",
   "execution_count": null,
   "metadata": {},
   "outputs": [],
   "source": [
    "# Keep going when get_history_pd file names are changed"
   ]
  },
  {
   "cell_type": "markdown",
   "metadata": {},
   "source": [
    "## OKX 20x Leverage test\n",
    "\n",
    "I launched a test with OKX with a short on BTCUSDT-27JUN25 and long on BTCUSDT-29NOV24.\n",
    "\n",
    "Following section will track the the two contracts' data"
   ]
  },
  {
   "cell_type": "code",
   "execution_count": null,
   "metadata": {},
   "outputs": [],
   "source": [
    "Bybit.utils.plot_compare(\"store/BTC-29NOV24_15.parquet\", \"store/BTC-27JUN25_15.parquet\", dateLimit=\"2024-05-06\")"
   ]
  }
 ],
 "metadata": {
  "kernelspec": {
   "display_name": "sandbox",
   "language": "python",
   "name": "python3"
  },
  "language_info": {
   "codemirror_mode": {
    "name": "ipython",
    "version": 3
   },
   "file_extension": ".py",
   "mimetype": "text/x-python",
   "name": "python",
   "nbconvert_exporter": "python",
   "pygments_lexer": "ipython3",
   "version": "3.10.14"
  }
 },
 "nbformat": 4,
 "nbformat_minor": 2
}
