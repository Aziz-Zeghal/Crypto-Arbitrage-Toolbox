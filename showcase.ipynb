{
 "cells": [
  {
   "cell_type": "markdown",
   "metadata": {},
   "source": [
    "# Showcase of Bybit Future - Future calc\n",
    "The Bybitmaster has custom methods that I coded, but can also make normal request to the Bybit API with the session attribute."
   ]
  },
  {
   "cell_type": "code",
   "execution_count": 3,
   "metadata": {},
   "outputs": [
    {
     "name": "stdout",
     "output_type": "stream",
     "text": [
      "\u001b[36m2025-01-18 09:43:53,688\u001b[0m - root - \u001b[32mINFO\u001b[0m - Global logging configuration applied with verbosity level 1\n",
      "\u001b[36m2025-01-18 09:43:53,689\u001b[0m - greekMaster - \u001b[32mINFO\u001b[0m - GreekMaster initialized\n"
     ]
    },
    {
     "ename": "InvalidRequestError",
     "evalue": "API key is invalid. (ErrCode: 10003) (ErrTime: 09:43:54).\nRequest → GET https://api-demo.bybit.com/v5/account/wallet-balance: accountType=UNIFIED&coin=BTC.",
     "output_type": "error",
     "traceback": [
      "\u001b[0;31m---------------------------------------------------------------------------\u001b[0m",
      "\u001b[0;31mInvalidRequestError\u001b[0m                       Traceback (most recent call last)",
      "Cell \u001b[0;32mIn[3], line 14\u001b[0m\n\u001b[1;32m     12\u001b[0m master \u001b[38;5;241m=\u001b[39m SpotFutStrategos(demo\u001b[38;5;241m=\u001b[39m\u001b[38;5;28;01mTrue\u001b[39;00m)\n\u001b[1;32m     13\u001b[0m sim \u001b[38;5;241m=\u001b[39m Bybit\u001b[38;5;241m.\u001b[39msimulator\u001b[38;5;241m.\u001b[39mSimulator()\n\u001b[0;32m---> 14\u001b[0m \u001b[43mmaster\u001b[49m\u001b[38;5;241;43m.\u001b[39;49m\u001b[43mfetcher\u001b[49m\u001b[38;5;241;43m.\u001b[39;49m\u001b[43mget_USDC_BTC\u001b[49m\u001b[43m(\u001b[49m\u001b[43m)\u001b[49m\n",
      "File \u001b[0;32m/workspaces/Crypto-Arbitrage-Toolbox/Bybit/apiFetcher.py:93\u001b[0m, in \u001b[0;36mbybitFetcher.get_USDC_BTC\u001b[0;34m(self)\u001b[0m\n\u001b[1;32m     76\u001b[0m \u001b[38;5;28;01mdef\u001b[39;00m \u001b[38;5;21mget_USDC_BTC\u001b[39m(\u001b[38;5;28mself\u001b[39m):\n\u001b[1;32m     77\u001b[0m \u001b[38;5;250m    \u001b[39m\u001b[38;5;124;03m\"\"\"\u001b[39;00m\n\u001b[1;32m     78\u001b[0m \u001b[38;5;124;03m    Gives some information on USDC and BTC\u001b[39;00m\n\u001b[1;32m     79\u001b[0m \n\u001b[0;32m   (...)\u001b[0m\n\u001b[1;32m     91\u001b[0m \u001b[38;5;124;03m                usdValue: Value in USD\u001b[39;00m\n\u001b[1;32m     92\u001b[0m \u001b[38;5;124;03m    \"\"\"\u001b[39;00m\n\u001b[0;32m---> 93\u001b[0m     btcDict \u001b[38;5;241m=\u001b[39m \u001b[38;5;28;43mself\u001b[39;49m\u001b[38;5;241;43m.\u001b[39;49m\u001b[43msession\u001b[49m\u001b[38;5;241;43m.\u001b[39;49m\u001b[43mget_wallet_balance\u001b[49m\u001b[43m(\u001b[49m\u001b[43maccountType\u001b[49m\u001b[38;5;241;43m=\u001b[39;49m\u001b[38;5;124;43m\"\u001b[39;49m\u001b[38;5;124;43mUNIFIED\u001b[39;49m\u001b[38;5;124;43m\"\u001b[39;49m\u001b[43m,\u001b[49m\u001b[43m \u001b[49m\u001b[43mcoin\u001b[49m\u001b[38;5;241;43m=\u001b[39;49m\u001b[38;5;124;43m\"\u001b[39;49m\u001b[38;5;124;43mBTC\u001b[39;49m\u001b[38;5;124;43m\"\u001b[39;49m\u001b[43m)\u001b[49m[\u001b[38;5;124m\"\u001b[39m\u001b[38;5;124mresult\u001b[39m\u001b[38;5;124m\"\u001b[39m][\u001b[38;5;124m\"\u001b[39m\u001b[38;5;124mlist\u001b[39m\u001b[38;5;124m\"\u001b[39m][\u001b[38;5;241m0\u001b[39m]\n\u001b[1;32m     94\u001b[0m     usdcDict \u001b[38;5;241m=\u001b[39m \u001b[38;5;28mself\u001b[39m\u001b[38;5;241m.\u001b[39msession\u001b[38;5;241m.\u001b[39mget_wallet_balance(accountType\u001b[38;5;241m=\u001b[39m\u001b[38;5;124m\"\u001b[39m\u001b[38;5;124mUNIFIED\u001b[39m\u001b[38;5;124m\"\u001b[39m, coin\u001b[38;5;241m=\u001b[39m\u001b[38;5;124m\"\u001b[39m\u001b[38;5;124mUSDC\u001b[39m\u001b[38;5;124m\"\u001b[39m)[\u001b[38;5;124m\"\u001b[39m\u001b[38;5;124mresult\u001b[39m\u001b[38;5;124m\"\u001b[39m][\u001b[38;5;124m\"\u001b[39m\u001b[38;5;124mlist\u001b[39m\u001b[38;5;124m\"\u001b[39m][\u001b[38;5;241m0\u001b[39m]\n\u001b[1;32m     96\u001b[0m     totalBalance \u001b[38;5;241m=\u001b[39m btcDict[\u001b[38;5;124m\"\u001b[39m\u001b[38;5;124mtotalEquity\u001b[39m\u001b[38;5;124m\"\u001b[39m]\n",
      "File \u001b[0;32m/opt/conda/envs/sandbox/lib/python3.10/site-packages/pybit/_v5_account.py:21\u001b[0m, in \u001b[0;36mAccountHTTP.get_wallet_balance\u001b[0;34m(self, **kwargs)\u001b[0m\n\u001b[1;32m      6\u001b[0m \u001b[38;5;28;01mdef\u001b[39;00m \u001b[38;5;21mget_wallet_balance\u001b[39m(\u001b[38;5;28mself\u001b[39m, \u001b[38;5;241m*\u001b[39m\u001b[38;5;241m*\u001b[39mkwargs):\n\u001b[1;32m      7\u001b[0m \u001b[38;5;250m    \u001b[39m\u001b[38;5;124;03m\"\"\"Obtain wallet balance, query asset information of each currency, and account risk rate information under unified margin mode.\u001b[39;00m\n\u001b[1;32m      8\u001b[0m \u001b[38;5;124;03m    By default, currency information with assets or liabilities of 0 is not returned.\u001b[39;00m\n\u001b[1;32m      9\u001b[0m \n\u001b[0;32m   (...)\u001b[0m\n\u001b[1;32m     19\u001b[0m \u001b[38;5;124;03m        https://bybit-exchange.github.io/docs/v5/account/wallet-balance\u001b[39;00m\n\u001b[1;32m     20\u001b[0m \u001b[38;5;124;03m    \"\"\"\u001b[39;00m\n\u001b[0;32m---> 21\u001b[0m     \u001b[38;5;28;01mreturn\u001b[39;00m \u001b[38;5;28;43mself\u001b[39;49m\u001b[38;5;241;43m.\u001b[39;49m\u001b[43m_submit_request\u001b[49m\u001b[43m(\u001b[49m\n\u001b[1;32m     22\u001b[0m \u001b[43m        \u001b[49m\u001b[43mmethod\u001b[49m\u001b[38;5;241;43m=\u001b[39;49m\u001b[38;5;124;43m\"\u001b[39;49m\u001b[38;5;124;43mGET\u001b[39;49m\u001b[38;5;124;43m\"\u001b[39;49m\u001b[43m,\u001b[49m\n\u001b[1;32m     23\u001b[0m \u001b[43m        \u001b[49m\u001b[43mpath\u001b[49m\u001b[38;5;241;43m=\u001b[39;49m\u001b[38;5;124;43mf\u001b[39;49m\u001b[38;5;124;43m\"\u001b[39;49m\u001b[38;5;132;43;01m{\u001b[39;49;00m\u001b[38;5;28;43mself\u001b[39;49m\u001b[38;5;241;43m.\u001b[39;49m\u001b[43mendpoint\u001b[49m\u001b[38;5;132;43;01m}\u001b[39;49;00m\u001b[38;5;132;43;01m{\u001b[39;49;00m\u001b[43mAccount\u001b[49m\u001b[38;5;241;43m.\u001b[39;49m\u001b[43mGET_WALLET_BALANCE\u001b[49m\u001b[38;5;132;43;01m}\u001b[39;49;00m\u001b[38;5;124;43m\"\u001b[39;49m\u001b[43m,\u001b[49m\n\u001b[1;32m     24\u001b[0m \u001b[43m        \u001b[49m\u001b[43mquery\u001b[49m\u001b[38;5;241;43m=\u001b[39;49m\u001b[43mkwargs\u001b[49m\u001b[43m,\u001b[49m\n\u001b[1;32m     25\u001b[0m \u001b[43m        \u001b[49m\u001b[43mauth\u001b[49m\u001b[38;5;241;43m=\u001b[39;49m\u001b[38;5;28;43;01mTrue\u001b[39;49;00m\u001b[43m,\u001b[49m\n\u001b[1;32m     26\u001b[0m \u001b[43m    \u001b[49m\u001b[43m)\u001b[49m\n",
      "File \u001b[0;32m/opt/conda/envs/sandbox/lib/python3.10/site-packages/pybit/_http_manager.py:379\u001b[0m, in \u001b[0;36m_V5HTTPManager._submit_request\u001b[0;34m(self, method, path, query, auth)\u001b[0m\n\u001b[1;32m    376\u001b[0m         \u001b[38;5;28;01mpass\u001b[39;00m\n\u001b[1;32m    378\u001b[0m     \u001b[38;5;28;01melse\u001b[39;00m:\n\u001b[0;32m--> 379\u001b[0m         \u001b[38;5;28;01mraise\u001b[39;00m InvalidRequestError(\n\u001b[1;32m    380\u001b[0m             request\u001b[38;5;241m=\u001b[39m\u001b[38;5;124mf\u001b[39m\u001b[38;5;124m\"\u001b[39m\u001b[38;5;132;01m{\u001b[39;00mmethod\u001b[38;5;132;01m}\u001b[39;00m\u001b[38;5;124m \u001b[39m\u001b[38;5;132;01m{\u001b[39;00mpath\u001b[38;5;132;01m}\u001b[39;00m\u001b[38;5;124m: \u001b[39m\u001b[38;5;132;01m{\u001b[39;00mreq_params\u001b[38;5;132;01m}\u001b[39;00m\u001b[38;5;124m\"\u001b[39m,\n\u001b[1;32m    381\u001b[0m             message\u001b[38;5;241m=\u001b[39ms_json[ret_msg],\n\u001b[1;32m    382\u001b[0m             status_code\u001b[38;5;241m=\u001b[39ms_json[ret_code],\n\u001b[1;32m    383\u001b[0m             time\u001b[38;5;241m=\u001b[39mdt\u001b[38;5;241m.\u001b[39mutcnow()\u001b[38;5;241m.\u001b[39mstrftime(\u001b[38;5;124m\"\u001b[39m\u001b[38;5;124m%\u001b[39m\u001b[38;5;124mH:\u001b[39m\u001b[38;5;124m%\u001b[39m\u001b[38;5;124mM:\u001b[39m\u001b[38;5;124m%\u001b[39m\u001b[38;5;124mS\u001b[39m\u001b[38;5;124m\"\u001b[39m),\n\u001b[1;32m    384\u001b[0m             resp_headers\u001b[38;5;241m=\u001b[39ms\u001b[38;5;241m.\u001b[39mheaders,\n\u001b[1;32m    385\u001b[0m         )\n\u001b[1;32m    386\u001b[0m \u001b[38;5;28;01melse\u001b[39;00m:\n\u001b[1;32m    387\u001b[0m     \u001b[38;5;28;01mif\u001b[39;00m \u001b[38;5;28mself\u001b[39m\u001b[38;5;241m.\u001b[39mlog_requests:\n",
      "\u001b[0;31mInvalidRequestError\u001b[0m: API key is invalid. (ErrCode: 10003) (ErrTime: 09:43:54).\nRequest → GET https://api-demo.bybit.com/v5/account/wallet-balance: accountType=UNIFIED&coin=BTC."
     ]
    }
   ],
   "source": [
    "# Inside of the module, we use absolute imports\n",
    "# Because this context is different, we need to add inside the PYTHONPATH the path of the module\n",
    "import sys\n",
    "sys.path.append('Bybit')\n",
    "\n",
    "from Bybit.greekMaster import SpotFutStrategos\n",
    "import Bybit.utils\n",
    "import Bybit.simulator\n",
    "Bybit.utils.ColorFormatter.configure_logging(run_name=\"save_klines.log\", verbose=1)\n",
    "\n",
    "# Create a Bybit master\n",
    "master = SpotFutStrategos(demo=True)\n",
    "sim = Bybit.simulator.Simulator()\n",
    "master.fetcher.get_USDC_BTC()"
   ]
  },
  {
   "cell_type": "code",
   "execution_count": 2,
   "metadata": {},
   "outputs": [
    {
     "data": {
      "text/html": [
       "<div>\n",
       "<style scoped>\n",
       "    .dataframe tbody tr th:only-of-type {\n",
       "        vertical-align: middle;\n",
       "    }\n",
       "\n",
       "    .dataframe tbody tr th {\n",
       "        vertical-align: top;\n",
       "    }\n",
       "\n",
       "    .dataframe thead th {\n",
       "        text-align: right;\n",
       "    }\n",
       "</style>\n",
       "<table border=\"1\" class=\"dataframe\">\n",
       "  <thead>\n",
       "    <tr style=\"text-align: right;\">\n",
       "      <th></th>\n",
       "      <th>Buy</th>\n",
       "      <th>Sell</th>\n",
       "      <th>Gap</th>\n",
       "      <th>Coeff</th>\n",
       "      <th>APR</th>\n",
       "      <th>DaysLeft</th>\n",
       "      <th>CumVolume</th>\n",
       "    </tr>\n",
       "  </thead>\n",
       "  <tbody>\n",
       "    <tr>\n",
       "      <th>0</th>\n",
       "      <td>BTCUSDC (Spot)</td>\n",
       "      <td>BTCUSDT (Spot)</td>\n",
       "      <td>$ 8.13</td>\n",
       "      <td>0.00 %</td>\n",
       "      <td>-0.00 %</td>\n",
       "      <td>-20105</td>\n",
       "      <td>3.63B</td>\n",
       "    </tr>\n",
       "    <tr>\n",
       "      <th>1</th>\n",
       "      <td>BTCUSDC (Spot)</td>\n",
       "      <td>BTCUSDH25</td>\n",
       "      <td>$ 2661.81</td>\n",
       "      <td>2.36 %</td>\n",
       "      <td>12.32 %</td>\n",
       "      <td>69</td>\n",
       "      <td>132.26M</td>\n",
       "    </tr>\n",
       "    <tr>\n",
       "      <th>2</th>\n",
       "      <td>BTCUSDC (Spot)</td>\n",
       "      <td>BTCUSDM25</td>\n",
       "      <td>$ 6012.81</td>\n",
       "      <td>5.61 %</td>\n",
       "      <td>12.73 %</td>\n",
       "      <td>160</td>\n",
       "      <td>132.26M</td>\n",
       "    </tr>\n",
       "    <tr>\n",
       "      <th>3</th>\n",
       "      <td>BTCUSDC (Spot)</td>\n",
       "      <td>BTC-24JAN25</td>\n",
       "      <td>$ 364.81</td>\n",
       "      <td>0.13 %</td>\n",
       "      <td>7.06 %</td>\n",
       "      <td>6</td>\n",
       "      <td>136.91M</td>\n",
       "    </tr>\n",
       "    <tr>\n",
       "      <th>4</th>\n",
       "      <td>BTCUSDC (Spot)</td>\n",
       "      <td>BTC-31JAN25</td>\n",
       "      <td>$ 584.31</td>\n",
       "      <td>0.35 %</td>\n",
       "      <td>9.09 %</td>\n",
       "      <td>13</td>\n",
       "      <td>133.38M</td>\n",
       "    </tr>\n",
       "    <tr>\n",
       "      <th>...</th>\n",
       "      <td>...</td>\n",
       "      <td>...</td>\n",
       "      <td>...</td>\n",
       "      <td>...</td>\n",
       "      <td>...</td>\n",
       "      <td>...</td>\n",
       "      <td>...</td>\n",
       "    </tr>\n",
       "    <tr>\n",
       "      <th>61</th>\n",
       "      <td>BTC-28MAR25</td>\n",
       "      <td>BTC-26SEP25</td>\n",
       "      <td>$ 6507.00</td>\n",
       "      <td>5.93 %</td>\n",
       "      <td>30.95 %</td>\n",
       "      <td>69</td>\n",
       "      <td>4.54M</td>\n",
       "    </tr>\n",
       "    <tr>\n",
       "      <th>62</th>\n",
       "      <td>BTC-28MAR25</td>\n",
       "      <td>BTC-26DEC25</td>\n",
       "      <td>$ 9502.00</td>\n",
       "      <td>8.76 %</td>\n",
       "      <td>45.73 %</td>\n",
       "      <td>69</td>\n",
       "      <td>3.45M</td>\n",
       "    </tr>\n",
       "    <tr>\n",
       "      <th>63</th>\n",
       "      <td>BTC-27JUN25</td>\n",
       "      <td>BTC-26SEP25</td>\n",
       "      <td>$ 3132.00</td>\n",
       "      <td>2.65 %</td>\n",
       "      <td>6.01 %</td>\n",
       "      <td>160</td>\n",
       "      <td>3.89M</td>\n",
       "    </tr>\n",
       "    <tr>\n",
       "      <th>64</th>\n",
       "      <td>BTC-27JUN25</td>\n",
       "      <td>BTC-26DEC25</td>\n",
       "      <td>$ 6127.00</td>\n",
       "      <td>5.39 %</td>\n",
       "      <td>12.23 %</td>\n",
       "      <td>160</td>\n",
       "      <td>2.80M</td>\n",
       "    </tr>\n",
       "    <tr>\n",
       "      <th>65</th>\n",
       "      <td>BTC-26SEP25</td>\n",
       "      <td>BTC-26DEC25</td>\n",
       "      <td>$ 2995.00</td>\n",
       "      <td>2.45 %</td>\n",
       "      <td>3.55 %</td>\n",
       "      <td>251</td>\n",
       "      <td>2.87M</td>\n",
       "    </tr>\n",
       "  </tbody>\n",
       "</table>\n",
       "<p>66 rows × 7 columns</p>\n",
       "</div>"
      ],
      "text/plain": [
       "               Buy            Sell        Gap   Coeff      APR  DaysLeft  \\\n",
       "0   BTCUSDC (Spot)  BTCUSDT (Spot)     $ 8.13  0.00 %  -0.00 %    -20105   \n",
       "1   BTCUSDC (Spot)       BTCUSDH25  $ 2661.81  2.36 %  12.32 %        69   \n",
       "2   BTCUSDC (Spot)       BTCUSDM25  $ 6012.81  5.61 %  12.73 %       160   \n",
       "3   BTCUSDC (Spot)     BTC-24JAN25   $ 364.81  0.13 %   7.06 %         6   \n",
       "4   BTCUSDC (Spot)     BTC-31JAN25   $ 584.31  0.35 %   9.09 %        13   \n",
       "..             ...             ...        ...     ...      ...       ...   \n",
       "61     BTC-28MAR25     BTC-26SEP25  $ 6507.00  5.93 %  30.95 %        69   \n",
       "62     BTC-28MAR25     BTC-26DEC25  $ 9502.00  8.76 %  45.73 %        69   \n",
       "63     BTC-27JUN25     BTC-26SEP25  $ 3132.00  2.65 %   6.01 %       160   \n",
       "64     BTC-27JUN25     BTC-26DEC25  $ 6127.00  5.39 %  12.23 %       160   \n",
       "65     BTC-26SEP25     BTC-26DEC25  $ 2995.00  2.45 %   3.55 %       251   \n",
       "\n",
       "   CumVolume  \n",
       "0      3.63B  \n",
       "1    132.26M  \n",
       "2    132.26M  \n",
       "3    136.91M  \n",
       "4    133.38M  \n",
       "..       ...  \n",
       "61     4.54M  \n",
       "62     3.45M  \n",
       "63     3.89M  \n",
       "64     2.80M  \n",
       "65     2.87M  \n",
       "\n",
       "[66 rows x 7 columns]"
      ]
     },
     "execution_count": 2,
     "metadata": {},
     "output_type": "execute_result"
    }
   ],
   "source": [
    "# Get all futures BTC gaps\n",
    "DataWrangler = master.fetcher.all_gaps_pd(inverse=True, spot=True, pretty=True, applyFees=True)\n",
    "DataWrangler"
   ]
  },
  {
   "cell_type": "code",
   "execution_count": null,
   "metadata": {},
   "outputs": [],
   "source": [
    "await master.client.fetcher.get_history_pd(\"BTC-17JAN25\", category=\"linear\", interval=\"15\", dest=\"store\")\n",
    "await master.client.fetcher.get_history_pd(\"BTC-17JAN25\", category=\"linear\", interval=\"5\", dest=\"store\")\n",
    "await master.client.fetcher.get_history_pd(\"BTC-17JAN25\", category=\"linear\", interval=\"1\", dest=\"store\")\n",
    "\n",
    "# master.client.fetcher.session.get_instruments_info(symbol=\"BTCUSDH25\", category=\"inverse\")\n",
    "\n",
    "# Bybit.utils.get_date(1743148800000)\n",
    "# start = Bybit.utils.get_date(1726214400000)"
   ]
  },
  {
   "cell_type": "markdown",
   "metadata": {},
   "source": [
    "## Tester\n",
    "Just to run some tests"
   ]
  },
  {
   "cell_type": "code",
   "execution_count": null,
   "metadata": {},
   "outputs": [],
   "source": [
    "# 1 - Simple enter position logic (given a future and a perpetual)\n",
    "# 2 - Simple exit position logic (given a future and a perpetual). Can also exit when reaching a satisfying unexpected gap\n",
    "# 3 - Logic to activate both operations (given a future and a perpetual). Enter again when reaching a satisfying unexpected gap\n",
    "# 4 - Logic to find the best future and perpetual to trade\n",
    "# 5 - Logic to keep the loop running\n",
    "# 6 - Monitoring features\n",
    "# 7 - Use systemctl to launch 24/7\n",
    "# We use sockets, once we selected the best local future, compared to their average gap.\n",
    "# Shared state to store the latest updates\n",
    "import datetime\n",
    "print(datetime.datetime.now().microsecond)\n",
    "(1734816631000 - datetime.datetime.now().microsecond) / 1000"
   ]
  },
  {
   "cell_type": "markdown",
   "metadata": {},
   "source": [
    "## Fetching time :)\n",
    "\n",
    "Getting 15, 5 and 1 minute candles for everything since 01/01/2024"
   ]
  },
  {
   "cell_type": "code",
   "execution_count": null,
   "metadata": {},
   "outputs": [
    {
     "name": "stdout",
     "output_type": "stream",
     "text": [
      "\u001b[36m2025-01-17 11:39:13,877\u001b[0m - greekMaster.client.fetcher - \u001b[32mINFO\u001b[0m - Fetching data for \u001b[38;5;214mBTC-24JAN25\u001b[0m.\n",
      "\u001b[36m2025-01-17 11:39:14,118\u001b[0m - greekMaster.client.fetcher - \u001b[32mINFO\u001b[0m - Loaded 1294 existing data points.\n",
      "\u001b[36m2025-01-17 11:39:14,317\u001b[0m - greekMaster.client.fetcher - \u001b[32mINFO\u001b[0m - Fetched 66 new data points.\n",
      "\u001b[36m2025-01-17 11:39:14,330\u001b[0m - greekMaster.client.fetcher - \u001b[32mINFO\u001b[0m - Fetching data for \u001b[38;5;214mBTC-24JAN25\u001b[0m.\n",
      "\u001b[36m2025-01-17 11:39:14,341\u001b[0m - greekMaster.client.fetcher - \u001b[32mINFO\u001b[0m - Loaded 3880 existing data points.\n",
      "\u001b[36m2025-01-17 11:39:14,705\u001b[0m - greekMaster.client.fetcher - \u001b[32mINFO\u001b[0m - Fetched 197 new data points.\n",
      "\u001b[36m2025-01-17 11:39:14,715\u001b[0m - greekMaster.client.fetcher - \u001b[32mINFO\u001b[0m - Fetching data for \u001b[38;5;214mBTC-24JAN25\u001b[0m.\n",
      "\u001b[36m2025-01-17 11:39:14,730\u001b[0m - greekMaster.client.fetcher - \u001b[32mINFO\u001b[0m - Loaded 19400 existing data points.\n",
      "\u001b[36m2025-01-17 11:39:15,268\u001b[0m - greekMaster.client.fetcher - \u001b[32mINFO\u001b[0m - Fetched 981 new data points.\n",
      "\u001b[36m2025-01-17 11:39:15,316\u001b[0m - greekMaster.client.fetcher - \u001b[32mINFO\u001b[0m - Fetching data for \u001b[38;5;214mBTC-31JAN25\u001b[0m.\n",
      "\u001b[36m2025-01-17 11:39:15,337\u001b[0m - greekMaster.client.fetcher - \u001b[32mINFO\u001b[0m - Loaded 6670 existing data points.\n",
      "\u001b[36m2025-01-17 11:39:15,520\u001b[0m - greekMaster.client.fetcher - \u001b[32mINFO\u001b[0m - Fetched 66 new data points.\n",
      "\u001b[36m2025-01-17 11:39:15,543\u001b[0m - greekMaster.client.fetcher - \u001b[32mINFO\u001b[0m - Fetching data for \u001b[38;5;214mBTC-31JAN25\u001b[0m.\n",
      "\u001b[36m2025-01-17 11:39:15,572\u001b[0m - greekMaster.client.fetcher - \u001b[32mINFO\u001b[0m - Loaded 20008 existing data points.\n",
      "\u001b[36m2025-01-17 11:39:15,927\u001b[0m - greekMaster.client.fetcher - \u001b[32mINFO\u001b[0m - Fetched 197 new data points.\n",
      "\u001b[36m2025-01-17 11:39:15,954\u001b[0m - greekMaster.client.fetcher - \u001b[32mINFO\u001b[0m - Fetching data for \u001b[38;5;214mBTC-31JAN25\u001b[0m.\n",
      "\u001b[36m2025-01-17 11:39:16,643\u001b[0m - greekMaster.client.fetcher - \u001b[32mINFO\u001b[0m - Loaded 100040 existing data points.\n",
      "\u001b[36m2025-01-17 11:39:17,001\u001b[0m - greekMaster.client.fetcher - \u001b[32mINFO\u001b[0m - Fetched 981 new data points.\n",
      "\u001b[36m2025-01-17 11:39:17,465\u001b[0m - greekMaster.client.fetcher - \u001b[32mINFO\u001b[0m - Fetching data for \u001b[38;5;214mBTC-07FEB25\u001b[0m.\n",
      "\u001b[36m2025-01-17 11:39:17,466\u001b[0m - greekMaster.client.fetcher - \u001b[32mINFO\u001b[0m - No previous data found, starting fresh.\n",
      "\u001b[36m2025-01-17 11:39:17,648\u001b[0m - greekMaster.client.fetcher - \u001b[32mINFO\u001b[0m - Fetched 15 new data points.\n",
      "\u001b[36m2025-01-17 11:39:18,082\u001b[0m - greekMaster.client.fetcher - \u001b[32mINFO\u001b[0m - Fetching data for \u001b[38;5;214mBTC-07FEB25\u001b[0m.\n",
      "\u001b[36m2025-01-17 11:39:18,084\u001b[0m - greekMaster.client.fetcher - \u001b[32mINFO\u001b[0m - No previous data found, starting fresh.\n",
      "\u001b[36m2025-01-17 11:39:18,267\u001b[0m - greekMaster.client.fetcher - \u001b[32mINFO\u001b[0m - Fetched 43 new data points.\n",
      "\u001b[36m2025-01-17 11:39:18,280\u001b[0m - greekMaster.client.fetcher - \u001b[32mINFO\u001b[0m - Fetching data for \u001b[38;5;214mBTC-07FEB25\u001b[0m.\n",
      "\u001b[36m2025-01-17 11:39:18,281\u001b[0m - greekMaster.client.fetcher - \u001b[32mINFO\u001b[0m - No previous data found, starting fresh.\n",
      "\u001b[36m2025-01-17 11:39:18,643\u001b[0m - greekMaster.client.fetcher - \u001b[32mINFO\u001b[0m - Fetched 215 new data points.\n",
      "\u001b[36m2025-01-17 11:39:18,648\u001b[0m - greekMaster.client.fetcher - \u001b[32mINFO\u001b[0m - Fetching data for \u001b[38;5;214mBTC-28FEB25\u001b[0m.\n",
      "\u001b[36m2025-01-17 11:39:18,843\u001b[0m - greekMaster.client.fetcher - \u001b[32mINFO\u001b[0m - Loaded 3982 existing data points.\n",
      "\u001b[36m2025-01-17 11:39:19,026\u001b[0m - greekMaster.client.fetcher - \u001b[32mINFO\u001b[0m - Fetched 66 new data points.\n",
      "\u001b[36m2025-01-17 11:39:19,036\u001b[0m - greekMaster.client.fetcher - \u001b[32mINFO\u001b[0m - Fetching data for \u001b[38;5;214mBTC-28FEB25\u001b[0m.\n",
      "\u001b[36m2025-01-17 11:39:19,101\u001b[0m - greekMaster.client.fetcher - \u001b[32mINFO\u001b[0m - Loaded 11944 existing data points.\n",
      "\u001b[36m2025-01-17 11:39:19,454\u001b[0m - greekMaster.client.fetcher - \u001b[32mINFO\u001b[0m - Fetched 197 new data points.\n",
      "\u001b[36m2025-01-17 11:39:19,475\u001b[0m - greekMaster.client.fetcher - \u001b[32mINFO\u001b[0m - Fetching data for \u001b[38;5;214mBTC-28FEB25\u001b[0m.\n",
      "\u001b[36m2025-01-17 11:39:19,625\u001b[0m - greekMaster.client.fetcher - \u001b[32mINFO\u001b[0m - Loaded 59720 existing data points.\n",
      "\u001b[36m2025-01-17 11:39:20,160\u001b[0m - greekMaster.client.fetcher - \u001b[32mINFO\u001b[0m - Fetched 981 new data points.\n",
      "\u001b[36m2025-01-17 11:39:20,214\u001b[0m - greekMaster.client.fetcher - \u001b[32mINFO\u001b[0m - Fetching data for \u001b[38;5;214mBTC-28MAR25\u001b[0m.\n",
      "\u001b[36m2025-01-17 11:39:20,246\u001b[0m - greekMaster.client.fetcher - \u001b[32mINFO\u001b[0m - Loaded 26254 existing data points.\n",
      "\u001b[36m2025-01-17 11:39:20,427\u001b[0m - greekMaster.client.fetcher - \u001b[32mINFO\u001b[0m - Fetched 66 new data points.\n",
      "\u001b[36m2025-01-17 11:39:20,461\u001b[0m - greekMaster.client.fetcher - \u001b[32mINFO\u001b[0m - Fetching data for \u001b[38;5;214mBTC-28MAR25\u001b[0m.\n",
      "\u001b[36m2025-01-17 11:39:20,546\u001b[0m - greekMaster.client.fetcher - \u001b[32mINFO\u001b[0m - Loaded 78760 existing data points.\n",
      "\u001b[36m2025-01-17 11:39:20,733\u001b[0m - greekMaster.client.fetcher - \u001b[32mINFO\u001b[0m - Fetched 197 new data points.\n",
      "\u001b[36m2025-01-17 11:39:20,868\u001b[0m - greekMaster.client.fetcher - \u001b[32mINFO\u001b[0m - Fetching data for \u001b[38;5;214mBTC-28MAR25\u001b[0m.\n",
      "\u001b[36m2025-01-17 11:39:21,182\u001b[0m - greekMaster.client.fetcher - \u001b[32mINFO\u001b[0m - Loaded 393800 existing data points.\n",
      "\u001b[36m2025-01-17 11:39:21,717\u001b[0m - greekMaster.client.fetcher - \u001b[32mINFO\u001b[0m - Fetched 981 new data points.\n",
      "\u001b[36m2025-01-17 11:39:22,026\u001b[0m - greekMaster.client.fetcher - \u001b[32mINFO\u001b[0m - Fetching data for \u001b[38;5;214mBTC-27JUN25\u001b[0m.\n",
      "\u001b[36m2025-01-17 11:39:22,047\u001b[0m - greekMaster.client.fetcher - \u001b[32mINFO\u001b[0m - Loaded 18765 existing data points.\n",
      "\u001b[36m2025-01-17 11:39:22,231\u001b[0m - greekMaster.client.fetcher - \u001b[32mINFO\u001b[0m - Fetched 66 new data points.\n",
      "\u001b[36m2025-01-17 11:39:22,257\u001b[0m - greekMaster.client.fetcher - \u001b[32mINFO\u001b[0m - Fetching data for \u001b[38;5;214mBTC-27JUN25\u001b[0m.\n",
      "\u001b[36m2025-01-17 11:39:22,335\u001b[0m - greekMaster.client.fetcher - \u001b[32mINFO\u001b[0m - Loaded 56291 existing data points.\n",
      "\u001b[36m2025-01-17 11:39:22,688\u001b[0m - greekMaster.client.fetcher - \u001b[32mINFO\u001b[0m - Fetched 197 new data points.\n",
      "\u001b[36m2025-01-17 11:39:22,760\u001b[0m - greekMaster.client.fetcher - \u001b[32mINFO\u001b[0m - Fetching data for \u001b[38;5;214mBTC-27JUN25\u001b[0m.\n",
      "\u001b[36m2025-01-17 11:39:22,975\u001b[0m - greekMaster.client.fetcher - \u001b[32mINFO\u001b[0m - Loaded 281454 existing data points.\n",
      "\u001b[36m2025-01-17 11:39:23,505\u001b[0m - greekMaster.client.fetcher - \u001b[32mINFO\u001b[0m - Fetched 981 new data points.\n",
      "\u001b[36m2025-01-17 11:39:23,739\u001b[0m - greekMaster.client.fetcher - \u001b[32mINFO\u001b[0m - Fetching data for \u001b[38;5;214mBTC-26SEP25\u001b[0m.\n",
      "\u001b[36m2025-01-17 11:39:23,753\u001b[0m - greekMaster.client.fetcher - \u001b[32mINFO\u001b[0m - Loaded 10030 existing data points.\n",
      "\u001b[36m2025-01-17 11:39:23,935\u001b[0m - greekMaster.client.fetcher - \u001b[32mINFO\u001b[0m - Fetched 66 new data points.\n",
      "\u001b[36m2025-01-17 11:39:23,951\u001b[0m - greekMaster.client.fetcher - \u001b[32mINFO\u001b[0m - Fetching data for \u001b[38;5;214mBTC-26SEP25\u001b[0m.\n",
      "\u001b[36m2025-01-17 11:39:23,985\u001b[0m - greekMaster.client.fetcher - \u001b[32mINFO\u001b[0m - Loaded 30088 existing data points.\n",
      "\u001b[36m2025-01-17 11:39:24,346\u001b[0m - greekMaster.client.fetcher - \u001b[32mINFO\u001b[0m - Fetched 197 new data points.\n",
      "\u001b[36m2025-01-17 11:39:24,387\u001b[0m - greekMaster.client.fetcher - \u001b[32mINFO\u001b[0m - Fetching data for \u001b[38;5;214mBTC-26SEP25\u001b[0m.\n",
      "\u001b[36m2025-01-17 11:39:24,500\u001b[0m - greekMaster.client.fetcher - \u001b[32mINFO\u001b[0m - Loaded 150441 existing data points.\n",
      "\u001b[36m2025-01-17 11:39:25,034\u001b[0m - greekMaster.client.fetcher - \u001b[32mINFO\u001b[0m - Fetched 980 new data points.\n",
      "\u001b[36m2025-01-17 11:39:25,162\u001b[0m - greekMaster.client.fetcher - \u001b[32mINFO\u001b[0m - Fetching data for \u001b[38;5;214mBTC-26DEC25\u001b[0m.\n",
      "\u001b[36m2025-01-17 11:39:25,166\u001b[0m - greekMaster.client.fetcher - \u001b[32mINFO\u001b[0m - Loaded 622 existing data points.\n",
      "\u001b[36m2025-01-17 11:39:25,349\u001b[0m - greekMaster.client.fetcher - \u001b[32mINFO\u001b[0m - Fetched 66 new data points.\n",
      "\u001b[36m2025-01-17 11:39:25,355\u001b[0m - greekMaster.client.fetcher - \u001b[32mINFO\u001b[0m - Fetching data for \u001b[38;5;214mBTC-26DEC25\u001b[0m.\n",
      "\u001b[36m2025-01-17 11:39:25,363\u001b[0m - greekMaster.client.fetcher - \u001b[32mINFO\u001b[0m - Loaded 1865 existing data points.\n",
      "\u001b[36m2025-01-17 11:39:25,716\u001b[0m - greekMaster.client.fetcher - \u001b[32mINFO\u001b[0m - Fetched 196 new data points.\n",
      "\u001b[36m2025-01-17 11:39:25,723\u001b[0m - greekMaster.client.fetcher - \u001b[32mINFO\u001b[0m - Fetching data for \u001b[38;5;214mBTC-26DEC25\u001b[0m.\n",
      "\u001b[36m2025-01-17 11:39:25,730\u001b[0m - greekMaster.client.fetcher - \u001b[32mINFO\u001b[0m - Loaded 9321 existing data points.\n",
      "\u001b[36m2025-01-17 11:39:26,258\u001b[0m - greekMaster.client.fetcher - \u001b[32mINFO\u001b[0m - Fetched 980 new data points.\n",
      "\u001b[36m2025-01-17 11:39:26,272\u001b[0m - greekMaster.client.fetcher - \u001b[32mINFO\u001b[0m - Fetching data for \u001b[38;5;214mBTCUSDT\u001b[0m.\n",
      "\u001b[36m2025-01-17 11:39:26,324\u001b[0m - greekMaster.client.fetcher - \u001b[32mINFO\u001b[0m - Loaded 37117 existing data points.\n",
      "\u001b[36m2025-01-17 11:39:26,515\u001b[0m - greekMaster.client.fetcher - \u001b[32mINFO\u001b[0m - Fetched 66 new data points.\n",
      "\u001b[36m2025-01-17 11:39:26,643\u001b[0m - greekMaster.client.fetcher - \u001b[32mINFO\u001b[0m - Fetching data for \u001b[38;5;214mBTCUSDT\u001b[0m.\n",
      "\u001b[36m2025-01-17 11:39:26,936\u001b[0m - greekMaster.client.fetcher - \u001b[32mINFO\u001b[0m - Loaded 110348 existing data points.\n",
      "\u001b[36m2025-01-17 11:39:27,295\u001b[0m - greekMaster.client.fetcher - \u001b[32mINFO\u001b[0m - Fetched 196 new data points.\n",
      "\u001b[36m2025-01-17 11:39:27,657\u001b[0m - greekMaster.client.fetcher - \u001b[32mINFO\u001b[0m - Fetching data for \u001b[38;5;214mBTCUSDT\u001b[0m.\n",
      "\u001b[36m2025-01-17 11:39:28,779\u001b[0m - greekMaster.client.fetcher - \u001b[32mINFO\u001b[0m - Loaded 550736 existing data points.\n",
      "\u001b[36m2025-01-17 11:39:29,320\u001b[0m - greekMaster.client.fetcher - \u001b[32mINFO\u001b[0m - Fetched 980 new data points.\n",
      "\u001b[36m2025-01-17 11:39:30,059\u001b[0m - greekMaster.client.fetcher - \u001b[32mINFO\u001b[0m - Fetching data for \u001b[38;5;214mBTCUSDT\u001b[0m.\n",
      "\u001b[36m2025-01-17 11:39:30,217\u001b[0m - greekMaster.client.fetcher - \u001b[32mINFO\u001b[0m - Loaded 36977 existing data points.\n",
      "\u001b[36m2025-01-17 11:39:30,401\u001b[0m - greekMaster.client.fetcher - \u001b[32mINFO\u001b[0m - Fetched 66 new data points.\n",
      "\u001b[36m2025-01-17 11:39:30,747\u001b[0m - greekMaster.client.fetcher - \u001b[32mINFO\u001b[0m - Fetching data for \u001b[38;5;214mBTCUSDT\u001b[0m.\n",
      "\u001b[36m2025-01-17 11:39:30,962\u001b[0m - greekMaster.client.fetcher - \u001b[32mINFO\u001b[0m - Loaded 110348 existing data points.\n",
      "\u001b[36m2025-01-17 11:39:31,317\u001b[0m - greekMaster.client.fetcher - \u001b[32mINFO\u001b[0m - Fetched 196 new data points.\n",
      "\u001b[36m2025-01-17 11:39:31,484\u001b[0m - greekMaster.client.fetcher - \u001b[32mINFO\u001b[0m - Fetching data for \u001b[38;5;214mBTCUSDT\u001b[0m.\n",
      "\u001b[36m2025-01-17 11:39:32,515\u001b[0m - greekMaster.client.fetcher - \u001b[32mINFO\u001b[0m - Loaded 550574 existing data points.\n",
      "\u001b[36m2025-01-17 11:39:33,052\u001b[0m - greekMaster.client.fetcher - \u001b[32mINFO\u001b[0m - Fetched 980 new data points.\n"
     ]
    }
   ],
   "source": [
    "# Future contracts\n",
    "await master.client.fetcher.save_klines(dest=\"store\")"
   ]
  },
  {
   "cell_type": "markdown",
   "metadata": {},
   "source": [
    "## Plot testing\n",
    "\n",
    "Part to test the plot of the data.\n"
   ]
  },
  {
   "cell_type": "code",
   "execution_count": null,
   "metadata": {},
   "outputs": [],
   "source": [
    "# Yes\n",
    "# master.client.fetcher.get_futureNames(quoteCoins=[\"USDT\"])"
   ]
  },
  {
   "cell_type": "markdown",
   "metadata": {},
   "source": [
    "## Long Spot x Short Future\n",
    "\n",
    "Spot USDC is 0% fees and Future is 0.0550% taker fees (0% with contract delivery).\n",
    "Problem is that spot cannot be used with leverage. Could borrow but that would be awkward. (tried it)"
   ]
  },
  {
   "cell_type": "code",
   "execution_count": null,
   "metadata": {},
   "outputs": [],
   "source": [
    "Bybit.utils.load_klines_parquet(\"store/BTC-20DEC24_1.parquet\", pretty=True)\n",
    "\n",
    "sim.plot_compare(\"store/BTCUSDT_1.parquet\", \"store/BTC-20DEC24_1.parquet\")"
   ]
  },
  {
   "cell_type": "code",
   "execution_count": null,
   "metadata": {},
   "outputs": [],
   "source": [
    "# Long position, then short position\n",
    "sim.plot_compare(\"store/BTCUSDT_1.parquet\", \"store/BTC-15NOV24_1.parquet\")"
   ]
  },
  {
   "cell_type": "markdown",
   "metadata": {},
   "source": [
    "## Long Perpetual x Short Future\n",
    "\n",
    "Perpetual USDT is 0.0550% taker fees and Future is 0.0550% taker fees (0% with contract delivery).\n",
    "Yes we have fees, but wen can use leverage on both sides.\n",
    "\n",
    "We use Perpetual USDT because there is more liquidity."
   ]
  },
  {
   "cell_type": "code",
   "execution_count": null,
   "metadata": {},
   "outputs": [],
   "source": [
    "sim.plot_compare(\"store/BTCPERP_5.parquet\", \"store/BTC-29NOV24_5.parquet\")"
   ]
  },
  {
   "cell_type": "code",
   "execution_count": null,
   "metadata": {},
   "outputs": [],
   "source": [
    "sim.plot_compare(\"store/BTCUSDT_5.parquet\", \"store/BTC-29NOV24_5.parquet\")"
   ]
  },
  {
   "cell_type": "markdown",
   "metadata": {},
   "source": [
    "## Long Spot x Short Inverse Future\n",
    "\n",
    "What if I buy spot and collateralize it to short inverse future?\n",
    "We effectively capture the difference."
   ]
  },
  {
   "cell_type": "code",
   "execution_count": null,
   "metadata": {},
   "outputs": [],
   "source": [
    "# Keep going when get_history_pd file names are changed"
   ]
  },
  {
   "cell_type": "markdown",
   "metadata": {},
   "source": [
    "## OKX 20x Leverage test\n",
    "\n",
    "I launched a test with OKX with a short on BTCUSDT-27JUN25 and long on BTCUSDT-29NOV24.\n",
    "\n",
    "Following section will track the the two contracts' data"
   ]
  },
  {
   "cell_type": "code",
   "execution_count": null,
   "metadata": {},
   "outputs": [],
   "source": [
    "sim.plot_compare(\"store/BTC-29NOV24_15.parquet\", \"store/BTC-27JUN25_15.parquet\", dateLimit=\"2024-05-06\")"
   ]
  }
 ],
 "metadata": {
  "kernelspec": {
   "display_name": "sandbox",
   "language": "python",
   "name": "python3"
  },
  "language_info": {
   "codemirror_mode": {
    "name": "ipython",
    "version": 3
   },
   "file_extension": ".py",
   "mimetype": "text/x-python",
   "name": "python",
   "nbconvert_exporter": "python",
   "pygments_lexer": "ipython3",
   "version": "3.10.14"
  }
 },
 "nbformat": 4,
 "nbformat_minor": 2
}
