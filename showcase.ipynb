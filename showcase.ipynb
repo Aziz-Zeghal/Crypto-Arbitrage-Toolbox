{
 "cells": [
  {
   "cell_type": "markdown",
   "metadata": {},
   "source": [
    "# Showcase of Bybit Future - Future calc\n",
    "The Bybitmaster has custom methods that I coded, but can also make normal request to the Bybit API with the session attribute."
   ]
  },
  {
   "cell_type": "code",
   "execution_count": 1,
   "metadata": {},
   "outputs": [
    {
     "name": "stdout",
     "output_type": "stream",
     "text": [
      "\u001b[36m2024-12-30 14:42:47,479\u001b[0m - root - \u001b[32mINFO\u001b[0m - Global logging configuration applied with verbosity level 1\n",
      "\u001b[36m2024-12-30 14:42:47,482\u001b[0m - greekMaster - \u001b[32mINFO\u001b[0m - GreekMaster initialized\n"
     ]
    }
   ],
   "source": [
    "# Inside of the module, we use absolute imports\n",
    "# Because this context is different, we need to add inside the PYTHONPATH the path of the module\n",
    "import sys\n",
    "sys.path.append('Bybit')\n",
    "\n",
    "from Bybit.greekMaster import GreekMaster\n",
    "import Bybit.utils\n",
    "\n",
    "Bybit.utils.configure_logging(run_name=\"save_klines.log\", verbose=1)\n",
    "\n",
    "# Create a Bybit master\n",
    "master = GreekMaster(demo=False)"
   ]
  },
  {
   "cell_type": "code",
   "execution_count": 4,
   "metadata": {},
   "outputs": [
    {
     "data": {
      "text/plain": [
       "datetime.datetime(2024, 12, 30, 15, 10, 50, 355611)"
      ]
     },
     "execution_count": 4,
     "metadata": {},
     "output_type": "execute_result"
    }
   ],
   "source": [
    "# Get all futures BTC gaps\n",
    "DataWrangler = master.all_gaps_pd(inverse=True, spot=True, pretty=True, applyFees=True)\n",
    "DataWrangler"
   ]
  },
  {
   "cell_type": "code",
   "execution_count": 3,
   "metadata": {},
   "outputs": [
    {
     "name": "stdout",
     "output_type": "stream",
     "text": [
      "\u001b[36m2024-12-30 14:47:37,610\u001b[0m - greekMaster.client.fetcher - \u001b[32mINFO\u001b[0m - Fetching data for \u001b[38;5;214mBTC-26DEC24\u001b[0m.\n",
      "\u001b[36m2024-12-30 14:47:37,611\u001b[0m - greekMaster.client.fetcher - \u001b[32mINFO\u001b[0m - No previous data found, starting fresh.\n"
     ]
    },
    {
     "ename": "InvalidRequestError",
     "evalue": "params error: Symbol Is Invalid (ErrCode: 10001) (ErrTime: 14:47:37).\nRequest → GET https://api.bybit.com/v5/market/kline: category=linear&interval=15&limit=1000&symbol=BTC-26DEC24.",
     "output_type": "error",
     "traceback": [
      "\u001b[0;31m---------------------------------------------------------------------------\u001b[0m",
      "\u001b[0;31mInvalidRequestError\u001b[0m                       Traceback (most recent call last)",
      "Cell \u001b[0;32mIn[3], line 1\u001b[0m\n\u001b[0;32m----> 1\u001b[0m \u001b[38;5;28;01mawait\u001b[39;00m master\u001b[38;5;241m.\u001b[39mclient\u001b[38;5;241m.\u001b[39mfetcher\u001b[38;5;241m.\u001b[39mget_history_pd(\u001b[38;5;124m\"\u001b[39m\u001b[38;5;124mBTC-26DEC24\u001b[39m\u001b[38;5;124m\"\u001b[39m, category\u001b[38;5;241m=\u001b[39m\u001b[38;5;124m\"\u001b[39m\u001b[38;5;124mlinear\u001b[39m\u001b[38;5;124m\"\u001b[39m, interval\u001b[38;5;241m=\u001b[39m\u001b[38;5;124m\"\u001b[39m\u001b[38;5;124m15\u001b[39m\u001b[38;5;124m\"\u001b[39m)\n\u001b[1;32m      2\u001b[0m \u001b[38;5;28;01mawait\u001b[39;00m master\u001b[38;5;241m.\u001b[39mclient\u001b[38;5;241m.\u001b[39mfetcher\u001b[38;5;241m.\u001b[39mget_history_pd(\u001b[38;5;124m\"\u001b[39m\u001b[38;5;124mBTC-26DEC24\u001b[39m\u001b[38;5;124m\"\u001b[39m, category\u001b[38;5;241m=\u001b[39m\u001b[38;5;124m\"\u001b[39m\u001b[38;5;124mlinear\u001b[39m\u001b[38;5;124m\"\u001b[39m, interval\u001b[38;5;241m=\u001b[39m\u001b[38;5;124m\"\u001b[39m\u001b[38;5;124m5\u001b[39m\u001b[38;5;124m\"\u001b[39m)\n\u001b[1;32m      3\u001b[0m \u001b[38;5;28;01mawait\u001b[39;00m master\u001b[38;5;241m.\u001b[39mclient\u001b[38;5;241m.\u001b[39mfetcher\u001b[38;5;241m.\u001b[39mget_history_pd(\u001b[38;5;124m\"\u001b[39m\u001b[38;5;124mBTC-26DEC24\u001b[39m\u001b[38;5;124m\"\u001b[39m, category\u001b[38;5;241m=\u001b[39m\u001b[38;5;124m\"\u001b[39m\u001b[38;5;124mlinear\u001b[39m\u001b[38;5;124m\"\u001b[39m, interval\u001b[38;5;241m=\u001b[39m\u001b[38;5;124m\"\u001b[39m\u001b[38;5;124m1\u001b[39m\u001b[38;5;124m\"\u001b[39m)\n",
      "File \u001b[0;32m<@beartype(apiFetcher.bybitFetcher.get_history_pd) at 0x786c5c249cf0>:107\u001b[0m, in \u001b[0;36mget_history_pd\u001b[0;34m(__beartype_get_violation, __beartype_conf, __beartype_object_132406797556544, __beartype_check_meta, __beartype_func, *args, **kwargs)\u001b[0m\n",
      "File \u001b[0;32m/workspaces/Crypto-Arbitrage-Toolbox/Bybit/apiFetcher.py:251\u001b[0m, in \u001b[0;36mbybitFetcher.get_history_pd\u001b[0;34m(self, product, interval, dateLimit, category, dest)\u001b[0m\n\u001b[1;32m    248\u001b[0m \u001b[38;5;28;01mif\u001b[39;00m timestamp:\n\u001b[1;32m    249\u001b[0m     params[timestamp_key] \u001b[38;5;241m=\u001b[39m timestamp\n\u001b[0;32m--> 251\u001b[0m response \u001b[38;5;241m=\u001b[39m \u001b[38;5;28;43mself\u001b[39;49m\u001b[38;5;241;43m.\u001b[39;49m\u001b[43msession\u001b[49m\u001b[38;5;241;43m.\u001b[39;49m\u001b[43mget_kline\u001b[49m\u001b[43m(\u001b[49m\u001b[38;5;241;43m*\u001b[39;49m\u001b[38;5;241;43m*\u001b[39;49m\u001b[43mparams\u001b[49m\u001b[43m)\u001b[49m[\u001b[38;5;124m\"\u001b[39m\u001b[38;5;124mresult\u001b[39m\u001b[38;5;124m\"\u001b[39m][\u001b[38;5;124m\"\u001b[39m\u001b[38;5;124mlist\u001b[39m\u001b[38;5;124m\"\u001b[39m]\n\u001b[1;32m    252\u001b[0m new_data \u001b[38;5;241m=\u001b[39m pd\u001b[38;5;241m.\u001b[39mDataFrame(\n\u001b[1;32m    253\u001b[0m     response,\n\u001b[1;32m    254\u001b[0m     columns\u001b[38;5;241m=\u001b[39m[\u001b[38;5;124m\"\u001b[39m\u001b[38;5;124mstartTime\u001b[39m\u001b[38;5;124m\"\u001b[39m, \u001b[38;5;124m\"\u001b[39m\u001b[38;5;124mopenPrice\u001b[39m\u001b[38;5;124m\"\u001b[39m, \u001b[38;5;124m\"\u001b[39m\u001b[38;5;124mhighPrice\u001b[39m\u001b[38;5;124m\"\u001b[39m, \u001b[38;5;124m\"\u001b[39m\u001b[38;5;124mlowPrice\u001b[39m\u001b[38;5;124m\"\u001b[39m, \u001b[38;5;124m\"\u001b[39m\u001b[38;5;124mclosePrice\u001b[39m\u001b[38;5;124m\"\u001b[39m, \u001b[38;5;124m\"\u001b[39m\u001b[38;5;124mvolume\u001b[39m\u001b[38;5;124m\"\u001b[39m, \u001b[38;5;124m\"\u001b[39m\u001b[38;5;124mturnover\u001b[39m\u001b[38;5;124m\"\u001b[39m],\n\u001b[1;32m    255\u001b[0m )\n\u001b[1;32m    257\u001b[0m \u001b[38;5;28mself\u001b[39m\u001b[38;5;241m.\u001b[39mlogger\u001b[38;5;241m.\u001b[39minfo(\u001b[38;5;124mf\u001b[39m\u001b[38;5;124m\"\u001b[39m\u001b[38;5;124mFetched \u001b[39m\u001b[38;5;132;01m{\u001b[39;00m\u001b[38;5;28mlen\u001b[39m(new_data)\u001b[38;5;132;01m}\u001b[39;00m\u001b[38;5;124m new data points.\u001b[39m\u001b[38;5;124m\"\u001b[39m)\n",
      "File \u001b[0;32m/opt/conda/envs/sandbox/lib/python3.10/site-packages/pybit/_v5_market.py:33\u001b[0m, in \u001b[0;36mMarketHTTP.get_kline\u001b[0;34m(self, **kwargs)\u001b[0m\n\u001b[1;32m     19\u001b[0m \u001b[38;5;28;01mdef\u001b[39;00m \u001b[38;5;21mget_kline\u001b[39m(\u001b[38;5;28mself\u001b[39m, \u001b[38;5;241m*\u001b[39m\u001b[38;5;241m*\u001b[39mkwargs) \u001b[38;5;241m-\u001b[39m\u001b[38;5;241m>\u001b[39m \u001b[38;5;28mdict\u001b[39m:\n\u001b[1;32m     20\u001b[0m \u001b[38;5;250m    \u001b[39m\u001b[38;5;124;03m\"\"\"Query the kline data. Charts are returned in groups based on the requested interval.\u001b[39;00m\n\u001b[1;32m     21\u001b[0m \n\u001b[1;32m     22\u001b[0m \u001b[38;5;124;03m    Required args:\u001b[39;00m\n\u001b[0;32m   (...)\u001b[0m\n\u001b[1;32m     31\u001b[0m \u001b[38;5;124;03m        https://bybit-exchange.github.io/docs/v5/market/kline\u001b[39;00m\n\u001b[1;32m     32\u001b[0m \u001b[38;5;124;03m    \"\"\"\u001b[39;00m\n\u001b[0;32m---> 33\u001b[0m     \u001b[38;5;28;01mreturn\u001b[39;00m \u001b[38;5;28;43mself\u001b[39;49m\u001b[38;5;241;43m.\u001b[39;49m\u001b[43m_submit_request\u001b[49m\u001b[43m(\u001b[49m\n\u001b[1;32m     34\u001b[0m \u001b[43m        \u001b[49m\u001b[43mmethod\u001b[49m\u001b[38;5;241;43m=\u001b[39;49m\u001b[38;5;124;43m\"\u001b[39;49m\u001b[38;5;124;43mGET\u001b[39;49m\u001b[38;5;124;43m\"\u001b[39;49m\u001b[43m,\u001b[49m\n\u001b[1;32m     35\u001b[0m \u001b[43m        \u001b[49m\u001b[43mpath\u001b[49m\u001b[38;5;241;43m=\u001b[39;49m\u001b[38;5;124;43mf\u001b[39;49m\u001b[38;5;124;43m\"\u001b[39;49m\u001b[38;5;132;43;01m{\u001b[39;49;00m\u001b[38;5;28;43mself\u001b[39;49m\u001b[38;5;241;43m.\u001b[39;49m\u001b[43mendpoint\u001b[49m\u001b[38;5;132;43;01m}\u001b[39;49;00m\u001b[38;5;132;43;01m{\u001b[39;49;00m\u001b[43mMarket\u001b[49m\u001b[38;5;241;43m.\u001b[39;49m\u001b[43mGET_KLINE\u001b[49m\u001b[38;5;132;43;01m}\u001b[39;49;00m\u001b[38;5;124;43m\"\u001b[39;49m\u001b[43m,\u001b[49m\n\u001b[1;32m     36\u001b[0m \u001b[43m        \u001b[49m\u001b[43mquery\u001b[49m\u001b[38;5;241;43m=\u001b[39;49m\u001b[43mkwargs\u001b[49m\u001b[43m,\u001b[49m\n\u001b[1;32m     37\u001b[0m \u001b[43m    \u001b[49m\u001b[43m)\u001b[49m\n",
      "File \u001b[0;32m/opt/conda/envs/sandbox/lib/python3.10/site-packages/pybit/_http_manager.py:379\u001b[0m, in \u001b[0;36m_V5HTTPManager._submit_request\u001b[0;34m(self, method, path, query, auth)\u001b[0m\n\u001b[1;32m    376\u001b[0m         \u001b[38;5;28;01mpass\u001b[39;00m\n\u001b[1;32m    378\u001b[0m     \u001b[38;5;28;01melse\u001b[39;00m:\n\u001b[0;32m--> 379\u001b[0m         \u001b[38;5;28;01mraise\u001b[39;00m InvalidRequestError(\n\u001b[1;32m    380\u001b[0m             request\u001b[38;5;241m=\u001b[39m\u001b[38;5;124mf\u001b[39m\u001b[38;5;124m\"\u001b[39m\u001b[38;5;132;01m{\u001b[39;00mmethod\u001b[38;5;132;01m}\u001b[39;00m\u001b[38;5;124m \u001b[39m\u001b[38;5;132;01m{\u001b[39;00mpath\u001b[38;5;132;01m}\u001b[39;00m\u001b[38;5;124m: \u001b[39m\u001b[38;5;132;01m{\u001b[39;00mreq_params\u001b[38;5;132;01m}\u001b[39;00m\u001b[38;5;124m\"\u001b[39m,\n\u001b[1;32m    381\u001b[0m             message\u001b[38;5;241m=\u001b[39ms_json[ret_msg],\n\u001b[1;32m    382\u001b[0m             status_code\u001b[38;5;241m=\u001b[39ms_json[ret_code],\n\u001b[1;32m    383\u001b[0m             time\u001b[38;5;241m=\u001b[39mdt\u001b[38;5;241m.\u001b[39mutcnow()\u001b[38;5;241m.\u001b[39mstrftime(\u001b[38;5;124m\"\u001b[39m\u001b[38;5;124m%\u001b[39m\u001b[38;5;124mH:\u001b[39m\u001b[38;5;124m%\u001b[39m\u001b[38;5;124mM:\u001b[39m\u001b[38;5;124m%\u001b[39m\u001b[38;5;124mS\u001b[39m\u001b[38;5;124m\"\u001b[39m),\n\u001b[1;32m    384\u001b[0m             resp_headers\u001b[38;5;241m=\u001b[39ms\u001b[38;5;241m.\u001b[39mheaders,\n\u001b[1;32m    385\u001b[0m         )\n\u001b[1;32m    386\u001b[0m \u001b[38;5;28;01melse\u001b[39;00m:\n\u001b[1;32m    387\u001b[0m     \u001b[38;5;28;01mif\u001b[39;00m \u001b[38;5;28mself\u001b[39m\u001b[38;5;241m.\u001b[39mlog_requests:\n",
      "\u001b[0;31mInvalidRequestError\u001b[0m: params error: Symbol Is Invalid (ErrCode: 10001) (ErrTime: 14:47:37).\nRequest → GET https://api.bybit.com/v5/market/kline: category=linear&interval=15&limit=1000&symbol=BTC-26DEC24."
     ]
    }
   ],
   "source": [
    "await master.client.fetcher.get_history_pd(\"BTC-26DEC24\", category=\"linear\", interval=\"15\")\n",
    "await master.client.fetcher.get_history_pd(\"BTC-26DEC24\", category=\"linear\", interval=\"5\")\n",
    "await master.client.fetcher.get_history_pd(\"BTC-26DEC24\", category=\"linear\", interval=\"1\")\n",
    "\n",
    "fig, df = Bybit.utils.plot_candles(\"BTCUSDH25_15.parquet\")\n",
    "fig\n",
    "\n",
    "# master.client.fetcher.session.get_instruments_info(symbol=\"BTCUSDH25\", category=\"inverse\")\n",
    "\n",
    "# Bybit.utils.get_date(1743148800000)\n",
    "# start = Bybit.utils.get_date(1726214400000)"
   ]
  },
  {
   "cell_type": "markdown",
   "metadata": {},
   "source": [
    "## Tester\n",
    "Just to run some tests"
   ]
  },
  {
   "cell_type": "code",
   "execution_count": 27,
   "metadata": {},
   "outputs": [
    {
     "name": "stdout",
     "output_type": "stream",
     "text": [
      "946061\n"
     ]
    },
    {
     "data": {
      "text/plain": [
       "1734815684.857"
      ]
     },
     "execution_count": 27,
     "metadata": {},
     "output_type": "execute_result"
    }
   ],
   "source": [
    "# 1 - Simple enter position logic (given a future and a perpetual)\n",
    "# 2 - Simple exit position logic (given a future and a perpetual). Can also exit when reaching a satisfying unexpected gap\n",
    "# 3 - Logic to activate both operations (given a future and a perpetual). Enter again when reaching a satisfying unexpected gap\n",
    "# 4 - Logic to find the best future and perpetual to trade\n",
    "# 5 - Logic to keep the loop running\n",
    "# 6 - Monitoring features\n",
    "# 7 - Use systemctl to launch 24/7\n",
    "# We use sockets, once we selected the best local future, compared to their average gap.\n",
    "# Shared state to store the latest updates\n",
    "import datetime\n",
    "print(datetime.datetime.now().microsecond)\n",
    "(1734816631000 - datetime.datetime.now().microsecond) / 1000"
   ]
  },
  {
   "cell_type": "markdown",
   "metadata": {},
   "source": [
    "## Fetching time :)\n",
    "\n",
    "Getting 15, 5 and 1 minute candles for everything since 01/01/2024"
   ]
  },
  {
   "cell_type": "code",
   "execution_count": 2,
   "metadata": {},
   "outputs": [
    {
     "name": "stdout",
     "output_type": "stream",
     "text": [
      "\u001b[36m2024-12-30 14:46:37,025\u001b[0m - greekMaster.client.fetcher - \u001b[32mINFO\u001b[0m - Fetching data for \u001b[38;5;214mBTC-03JAN25\u001b[0m.\n",
      "\u001b[36m2024-12-30 14:46:37,224\u001b[0m - greekMaster.client.fetcher - \u001b[32mINFO\u001b[0m - Loaded 781 existing data points.\n",
      "\u001b[36m2024-12-30 14:46:37,407\u001b[0m - greekMaster.client.fetcher - \u001b[32mINFO\u001b[0m - Fetched 880 new data points.\n",
      "\u001b[36m2024-12-30 14:46:37,417\u001b[0m - greekMaster.client.fetcher - \u001b[32mINFO\u001b[0m - Fetching data for \u001b[38;5;214mBTC-03JAN25\u001b[0m.\n",
      "\u001b[36m2024-12-30 14:46:37,425\u001b[0m - greekMaster.client.fetcher - \u001b[32mINFO\u001b[0m - Loaded 2342 existing data points.\n",
      "\u001b[36m2024-12-30 14:46:37,945\u001b[0m - greekMaster.client.fetcher - \u001b[32mINFO\u001b[0m - Fetched 1000 new data points.\n",
      "\u001b[36m2024-12-30 14:46:38,126\u001b[0m - greekMaster.client.fetcher - \u001b[32mINFO\u001b[0m - Fetched 1000 new data points.\n",
      "\u001b[36m2024-12-30 14:46:38,308\u001b[0m - greekMaster.client.fetcher - \u001b[32mINFO\u001b[0m - Fetched 639 new data points.\n",
      "\u001b[36m2024-12-30 14:46:38,320\u001b[0m - greekMaster.client.fetcher - \u001b[32mINFO\u001b[0m - Fetching data for \u001b[38;5;214mBTC-03JAN25\u001b[0m.\n",
      "\u001b[36m2024-12-30 14:46:38,330\u001b[0m - greekMaster.client.fetcher - \u001b[32mINFO\u001b[0m - Loaded 11708 existing data points.\n",
      "\u001b[36m2024-12-30 14:46:39,180\u001b[0m - greekMaster.client.fetcher - \u001b[32mINFO\u001b[0m - Fetched 1000 new data points.\n",
      "\u001b[36m2024-12-30 14:46:39,700\u001b[0m - greekMaster.client.fetcher - \u001b[32mINFO\u001b[0m - Fetched 1000 new data points.\n",
      "\u001b[36m2024-12-30 14:46:40,221\u001b[0m - greekMaster.client.fetcher - \u001b[32mINFO\u001b[0m - Fetched 1000 new data points.\n",
      "\u001b[36m2024-12-30 14:46:40,738\u001b[0m - greekMaster.client.fetcher - \u001b[32mINFO\u001b[0m - Fetched 1000 new data points.\n",
      "\u001b[36m2024-12-30 14:46:41,613\u001b[0m - greekMaster.client.fetcher - \u001b[32mINFO\u001b[0m - Fetched 1000 new data points.\n",
      "\u001b[36m2024-12-30 14:46:42,133\u001b[0m - greekMaster.client.fetcher - \u001b[32mINFO\u001b[0m - Fetched 1000 new data points.\n",
      "\u001b[36m2024-12-30 14:46:42,315\u001b[0m - greekMaster.client.fetcher - \u001b[32mINFO\u001b[0m - Fetched 1000 new data points.\n",
      "\u001b[36m2024-12-30 14:46:42,672\u001b[0m - greekMaster.client.fetcher - \u001b[32mINFO\u001b[0m - Fetched 1000 new data points.\n",
      "\u001b[36m2024-12-30 14:46:43,020\u001b[0m - greekMaster.client.fetcher - \u001b[32mINFO\u001b[0m - Fetched 1000 new data points.\n",
      "\u001b[36m2024-12-30 14:46:43,200\u001b[0m - greekMaster.client.fetcher - \u001b[32mINFO\u001b[0m - Fetched 1000 new data points.\n",
      "\u001b[36m2024-12-30 14:46:43,379\u001b[0m - greekMaster.client.fetcher - \u001b[32mINFO\u001b[0m - Fetched 1000 new data points.\n",
      "\u001b[36m2024-12-30 14:46:43,560\u001b[0m - greekMaster.client.fetcher - \u001b[32mINFO\u001b[0m - Fetched 1000 new data points.\n",
      "\u001b[36m2024-12-30 14:46:43,743\u001b[0m - greekMaster.client.fetcher - \u001b[32mINFO\u001b[0m - Fetched 1000 new data points.\n",
      "\u001b[36m2024-12-30 14:46:43,925\u001b[0m - greekMaster.client.fetcher - \u001b[32mINFO\u001b[0m - Fetched 193 new data points.\n",
      "\u001b[36m2024-12-30 14:46:43,952\u001b[0m - greekMaster.client.fetcher - \u001b[32mINFO\u001b[0m - Fetching data for \u001b[38;5;214mBTC-10JAN25\u001b[0m.\n",
      "\u001b[36m2024-12-30 14:46:43,957\u001b[0m - greekMaster.client.fetcher - \u001b[32mINFO\u001b[0m - Loaded 109 existing data points.\n",
      "\u001b[36m2024-12-30 14:46:44,827\u001b[0m - greekMaster.client.fetcher - \u001b[32mINFO\u001b[0m - Fetched 880 new data points.\n",
      "\u001b[36m2024-12-30 14:46:44,834\u001b[0m - greekMaster.client.fetcher - \u001b[32mINFO\u001b[0m - Fetching data for \u001b[38;5;214mBTC-10JAN25\u001b[0m.\n",
      "\u001b[36m2024-12-30 14:46:44,837\u001b[0m - greekMaster.client.fetcher - \u001b[32mINFO\u001b[0m - Loaded 326 existing data points.\n",
      "\u001b[36m2024-12-30 14:46:45,016\u001b[0m - greekMaster.client.fetcher - \u001b[32mINFO\u001b[0m - Fetched 1000 new data points.\n",
      "\u001b[36m2024-12-30 14:46:45,197\u001b[0m - greekMaster.client.fetcher - \u001b[32mINFO\u001b[0m - Fetched 1000 new data points.\n",
      "\u001b[36m2024-12-30 14:46:45,376\u001b[0m - greekMaster.client.fetcher - \u001b[32mINFO\u001b[0m - Fetched 639 new data points.\n",
      "\u001b[36m2024-12-30 14:46:45,385\u001b[0m - greekMaster.client.fetcher - \u001b[32mINFO\u001b[0m - Fetching data for \u001b[38;5;214mBTC-10JAN25\u001b[0m.\n",
      "\u001b[36m2024-12-30 14:46:45,388\u001b[0m - greekMaster.client.fetcher - \u001b[32mINFO\u001b[0m - Loaded 1628 existing data points.\n",
      "\u001b[36m2024-12-30 14:46:45,909\u001b[0m - greekMaster.client.fetcher - \u001b[32mINFO\u001b[0m - Fetched 1000 new data points.\n",
      "\u001b[36m2024-12-30 14:46:46,090\u001b[0m - greekMaster.client.fetcher - \u001b[32mINFO\u001b[0m - Fetched 1000 new data points.\n",
      "\u001b[36m2024-12-30 14:46:46,274\u001b[0m - greekMaster.client.fetcher - \u001b[32mINFO\u001b[0m - Fetched 1000 new data points.\n",
      "\u001b[36m2024-12-30 14:46:46,453\u001b[0m - greekMaster.client.fetcher - \u001b[32mINFO\u001b[0m - Fetched 1000 new data points.\n",
      "\u001b[36m2024-12-30 14:46:46,638\u001b[0m - greekMaster.client.fetcher - \u001b[32mINFO\u001b[0m - Fetched 1000 new data points.\n",
      "\u001b[36m2024-12-30 14:46:47,153\u001b[0m - greekMaster.client.fetcher - \u001b[32mINFO\u001b[0m - Fetched 1000 new data points.\n",
      "\u001b[36m2024-12-30 14:46:47,335\u001b[0m - greekMaster.client.fetcher - \u001b[32mINFO\u001b[0m - Fetched 1000 new data points.\n",
      "\u001b[36m2024-12-30 14:46:47,518\u001b[0m - greekMaster.client.fetcher - \u001b[32mINFO\u001b[0m - Fetched 1000 new data points.\n",
      "\u001b[36m2024-12-30 14:46:47,870\u001b[0m - greekMaster.client.fetcher - \u001b[32mINFO\u001b[0m - Fetched 1000 new data points.\n",
      "\u001b[36m2024-12-30 14:46:48,215\u001b[0m - greekMaster.client.fetcher - \u001b[32mINFO\u001b[0m - Fetched 1000 new data points.\n",
      "\u001b[36m2024-12-30 14:46:48,791\u001b[0m - greekMaster.client.fetcher - \u001b[32mINFO\u001b[0m - Fetched 1000 new data points.\n",
      "\u001b[36m2024-12-30 14:46:48,971\u001b[0m - greekMaster.client.fetcher - \u001b[32mINFO\u001b[0m - Fetched 1000 new data points.\n",
      "\u001b[36m2024-12-30 14:46:49,154\u001b[0m - greekMaster.client.fetcher - \u001b[32mINFO\u001b[0m - Fetched 1000 new data points.\n",
      "\u001b[36m2024-12-30 14:46:49,344\u001b[0m - greekMaster.client.fetcher - \u001b[32mINFO\u001b[0m - Fetched 193 new data points.\n",
      "\u001b[36m2024-12-30 14:46:49,363\u001b[0m - greekMaster.client.fetcher - \u001b[32mINFO\u001b[0m - Fetching data for \u001b[38;5;214mBTC-17JAN25\u001b[0m.\n",
      "\u001b[36m2024-12-30 14:46:49,363\u001b[0m - greekMaster.client.fetcher - \u001b[32mINFO\u001b[0m - No previous data found, starting fresh.\n",
      "\u001b[36m2024-12-30 14:46:49,542\u001b[0m - greekMaster.client.fetcher - \u001b[32mINFO\u001b[0m - Fetched 316 new data points.\n",
      "\u001b[36m2024-12-30 14:46:49,546\u001b[0m - greekMaster.client.fetcher - \u001b[32mINFO\u001b[0m - Fetching data for \u001b[38;5;214mBTC-17JAN25\u001b[0m.\n",
      "\u001b[36m2024-12-30 14:46:49,547\u001b[0m - greekMaster.client.fetcher - \u001b[32mINFO\u001b[0m - No previous data found, starting fresh.\n",
      "\u001b[36m2024-12-30 14:46:49,735\u001b[0m - greekMaster.client.fetcher - \u001b[32mINFO\u001b[0m - Fetched 946 new data points.\n",
      "\u001b[36m2024-12-30 14:46:49,747\u001b[0m - greekMaster.client.fetcher - \u001b[32mINFO\u001b[0m - Fetching data for \u001b[38;5;214mBTC-17JAN25\u001b[0m.\n",
      "\u001b[36m2024-12-30 14:46:49,751\u001b[0m - greekMaster.client.fetcher - \u001b[32mINFO\u001b[0m - No previous data found, starting fresh.\n",
      "\u001b[36m2024-12-30 14:46:49,934\u001b[0m - greekMaster.client.fetcher - \u001b[32mINFO\u001b[0m - Fetched 1000 new data points.\n",
      "\u001b[36m2024-12-30 14:46:50,119\u001b[0m - greekMaster.client.fetcher - \u001b[32mINFO\u001b[0m - Fetched 1000 new data points.\n",
      "\u001b[36m2024-12-30 14:46:50,303\u001b[0m - greekMaster.client.fetcher - \u001b[32mINFO\u001b[0m - Fetched 1000 new data points.\n",
      "\u001b[36m2024-12-30 14:46:50,482\u001b[0m - greekMaster.client.fetcher - \u001b[32mINFO\u001b[0m - Fetched 1000 new data points.\n",
      "\u001b[36m2024-12-30 14:46:50,663\u001b[0m - greekMaster.client.fetcher - \u001b[32mINFO\u001b[0m - Fetched 731 new data points.\n",
      "\u001b[36m2024-12-30 14:46:50,672\u001b[0m - greekMaster.client.fetcher - \u001b[32mINFO\u001b[0m - Fetching data for \u001b[38;5;214mBTC-31JAN25\u001b[0m.\n",
      "\u001b[36m2024-12-30 14:46:50,681\u001b[0m - greekMaster.client.fetcher - \u001b[32mINFO\u001b[0m - Loaded 4141 existing data points.\n",
      "\u001b[36m2024-12-30 14:46:50,864\u001b[0m - greekMaster.client.fetcher - \u001b[32mINFO\u001b[0m - Fetched 880 new data points.\n",
      "\u001b[36m2024-12-30 14:46:50,879\u001b[0m - greekMaster.client.fetcher - \u001b[32mINFO\u001b[0m - Fetching data for \u001b[38;5;214mBTC-31JAN25\u001b[0m.\n",
      "\u001b[36m2024-12-30 14:46:50,894\u001b[0m - greekMaster.client.fetcher - \u001b[32mINFO\u001b[0m - Loaded 12422 existing data points.\n",
      "\u001b[36m2024-12-30 14:46:51,076\u001b[0m - greekMaster.client.fetcher - \u001b[32mINFO\u001b[0m - Fetched 1000 new data points.\n",
      "\u001b[36m2024-12-30 14:46:51,259\u001b[0m - greekMaster.client.fetcher - \u001b[32mINFO\u001b[0m - Fetched 1000 new data points.\n",
      "\u001b[36m2024-12-30 14:46:51,437\u001b[0m - greekMaster.client.fetcher - \u001b[32mINFO\u001b[0m - Fetched 639 new data points.\n",
      "\u001b[36m2024-12-30 14:46:51,461\u001b[0m - greekMaster.client.fetcher - \u001b[32mINFO\u001b[0m - Fetching data for \u001b[38;5;214mBTC-31JAN25\u001b[0m.\n",
      "\u001b[36m2024-12-30 14:46:51,511\u001b[0m - greekMaster.client.fetcher - \u001b[32mINFO\u001b[0m - Loaded 62108 existing data points.\n",
      "\u001b[36m2024-12-30 14:46:51,691\u001b[0m - greekMaster.client.fetcher - \u001b[32mINFO\u001b[0m - Fetched 1000 new data points.\n",
      "\u001b[36m2024-12-30 14:46:51,875\u001b[0m - greekMaster.client.fetcher - \u001b[32mINFO\u001b[0m - Fetched 1000 new data points.\n",
      "\u001b[36m2024-12-30 14:46:52,063\u001b[0m - greekMaster.client.fetcher - \u001b[32mINFO\u001b[0m - Fetched 1000 new data points.\n",
      "\u001b[36m2024-12-30 14:46:52,249\u001b[0m - greekMaster.client.fetcher - \u001b[32mINFO\u001b[0m - Fetched 1000 new data points.\n",
      "\u001b[36m2024-12-30 14:46:52,455\u001b[0m - greekMaster.client.fetcher - \u001b[32mINFO\u001b[0m - Fetched 1000 new data points.\n",
      "\u001b[36m2024-12-30 14:46:52,638\u001b[0m - greekMaster.client.fetcher - \u001b[32mINFO\u001b[0m - Fetched 1000 new data points.\n",
      "\u001b[36m2024-12-30 14:46:52,831\u001b[0m - greekMaster.client.fetcher - \u001b[32mINFO\u001b[0m - Fetched 1000 new data points.\n",
      "\u001b[36m2024-12-30 14:46:53,017\u001b[0m - greekMaster.client.fetcher - \u001b[32mINFO\u001b[0m - Fetched 1000 new data points.\n",
      "\u001b[36m2024-12-30 14:46:53,205\u001b[0m - greekMaster.client.fetcher - \u001b[32mINFO\u001b[0m - Fetched 1000 new data points.\n",
      "\u001b[36m2024-12-30 14:46:53,392\u001b[0m - greekMaster.client.fetcher - \u001b[32mINFO\u001b[0m - Fetched 1000 new data points.\n",
      "\u001b[36m2024-12-30 14:46:53,577\u001b[0m - greekMaster.client.fetcher - \u001b[32mINFO\u001b[0m - Fetched 1000 new data points.\n",
      "\u001b[36m2024-12-30 14:46:53,762\u001b[0m - greekMaster.client.fetcher - \u001b[32mINFO\u001b[0m - Fetched 1000 new data points.\n",
      "\u001b[36m2024-12-30 14:46:53,948\u001b[0m - greekMaster.client.fetcher - \u001b[32mINFO\u001b[0m - Fetched 1000 new data points.\n",
      "\u001b[36m2024-12-30 14:46:54,132\u001b[0m - greekMaster.client.fetcher - \u001b[32mINFO\u001b[0m - Fetched 193 new data points.\n",
      "\u001b[36m2024-12-30 14:46:54,204\u001b[0m - greekMaster.client.fetcher - \u001b[32mINFO\u001b[0m - Fetching data for \u001b[38;5;214mBTC-28FEB25\u001b[0m.\n",
      "\u001b[36m2024-12-30 14:46:54,209\u001b[0m - greekMaster.client.fetcher - \u001b[32mINFO\u001b[0m - Loaded 1453 existing data points.\n",
      "\u001b[36m2024-12-30 14:46:54,387\u001b[0m - greekMaster.client.fetcher - \u001b[32mINFO\u001b[0m - Fetched 880 new data points.\n",
      "\u001b[36m2024-12-30 14:46:54,397\u001b[0m - greekMaster.client.fetcher - \u001b[32mINFO\u001b[0m - Fetching data for \u001b[38;5;214mBTC-28FEB25\u001b[0m.\n",
      "\u001b[36m2024-12-30 14:46:54,407\u001b[0m - greekMaster.client.fetcher - \u001b[32mINFO\u001b[0m - Loaded 4358 existing data points.\n",
      "\u001b[36m2024-12-30 14:46:54,586\u001b[0m - greekMaster.client.fetcher - \u001b[32mINFO\u001b[0m - Fetched 1000 new data points.\n",
      "\u001b[36m2024-12-30 14:46:55,443\u001b[0m - greekMaster.client.fetcher - \u001b[32mINFO\u001b[0m - Fetched 1000 new data points.\n",
      "\u001b[36m2024-12-30 14:46:55,625\u001b[0m - greekMaster.client.fetcher - \u001b[32mINFO\u001b[0m - Fetched 639 new data points.\n",
      "\u001b[36m2024-12-30 14:46:55,640\u001b[0m - greekMaster.client.fetcher - \u001b[32mINFO\u001b[0m - Fetching data for \u001b[38;5;214mBTC-28FEB25\u001b[0m.\n",
      "\u001b[36m2024-12-30 14:46:55,659\u001b[0m - greekMaster.client.fetcher - \u001b[32mINFO\u001b[0m - Loaded 21788 existing data points.\n",
      "\u001b[36m2024-12-30 14:46:55,837\u001b[0m - greekMaster.client.fetcher - \u001b[32mINFO\u001b[0m - Fetched 1000 new data points.\n",
      "\u001b[36m2024-12-30 14:46:56,018\u001b[0m - greekMaster.client.fetcher - \u001b[32mINFO\u001b[0m - Fetched 1000 new data points.\n",
      "\u001b[36m2024-12-30 14:46:56,214\u001b[0m - greekMaster.client.fetcher - \u001b[32mINFO\u001b[0m - Fetched 1000 new data points.\n",
      "\u001b[36m2024-12-30 14:46:56,423\u001b[0m - greekMaster.client.fetcher - \u001b[32mINFO\u001b[0m - Fetched 1000 new data points.\n",
      "\u001b[36m2024-12-30 14:46:56,614\u001b[0m - greekMaster.client.fetcher - \u001b[32mINFO\u001b[0m - Fetched 1000 new data points.\n",
      "\u001b[36m2024-12-30 14:46:57,136\u001b[0m - greekMaster.client.fetcher - \u001b[32mINFO\u001b[0m - Fetched 1000 new data points.\n",
      "\u001b[36m2024-12-30 14:46:57,320\u001b[0m - greekMaster.client.fetcher - \u001b[32mINFO\u001b[0m - Fetched 1000 new data points.\n",
      "\u001b[36m2024-12-30 14:46:57,510\u001b[0m - greekMaster.client.fetcher - \u001b[32mINFO\u001b[0m - Fetched 1000 new data points.\n",
      "\u001b[36m2024-12-30 14:46:57,704\u001b[0m - greekMaster.client.fetcher - \u001b[32mINFO\u001b[0m - Fetched 1000 new data points.\n",
      "\u001b[36m2024-12-30 14:46:57,889\u001b[0m - greekMaster.client.fetcher - \u001b[32mINFO\u001b[0m - Fetched 1000 new data points.\n",
      "\u001b[36m2024-12-30 14:46:58,070\u001b[0m - greekMaster.client.fetcher - \u001b[32mINFO\u001b[0m - Fetched 1000 new data points.\n",
      "\u001b[36m2024-12-30 14:46:58,256\u001b[0m - greekMaster.client.fetcher - \u001b[32mINFO\u001b[0m - Fetched 1000 new data points.\n",
      "\u001b[36m2024-12-30 14:46:59,123\u001b[0m - greekMaster.client.fetcher - \u001b[32mINFO\u001b[0m - Fetched 1000 new data points.\n",
      "\u001b[36m2024-12-30 14:46:59,312\u001b[0m - greekMaster.client.fetcher - \u001b[32mINFO\u001b[0m - Fetched 193 new data points.\n",
      "\u001b[36m2024-12-30 14:46:59,354\u001b[0m - greekMaster.client.fetcher - \u001b[32mINFO\u001b[0m - Fetching data for \u001b[38;5;214mBTC-28MAR25\u001b[0m.\n",
      "\u001b[36m2024-12-30 14:46:59,384\u001b[0m - greekMaster.client.fetcher - \u001b[32mINFO\u001b[0m - Loaded 23725 existing data points.\n",
      "\u001b[36m2024-12-30 14:46:59,562\u001b[0m - greekMaster.client.fetcher - \u001b[32mINFO\u001b[0m - Fetched 880 new data points.\n",
      "\u001b[36m2024-12-30 14:46:59,592\u001b[0m - greekMaster.client.fetcher - \u001b[32mINFO\u001b[0m - Fetching data for \u001b[38;5;214mBTC-28MAR25\u001b[0m.\n",
      "\u001b[36m2024-12-30 14:46:59,664\u001b[0m - greekMaster.client.fetcher - \u001b[32mINFO\u001b[0m - Loaded 71174 existing data points.\n",
      "\u001b[36m2024-12-30 14:47:00,009\u001b[0m - greekMaster.client.fetcher - \u001b[32mINFO\u001b[0m - Fetched 1000 new data points.\n",
      "\u001b[36m2024-12-30 14:47:00,194\u001b[0m - greekMaster.client.fetcher - \u001b[32mINFO\u001b[0m - Fetched 1000 new data points.\n",
      "\u001b[36m2024-12-30 14:47:00,404\u001b[0m - greekMaster.client.fetcher - \u001b[32mINFO\u001b[0m - Fetched 639 new data points.\n",
      "\u001b[36m2024-12-30 14:47:00,520\u001b[0m - greekMaster.client.fetcher - \u001b[32mINFO\u001b[0m - Fetching data for \u001b[38;5;214mBTC-28MAR25\u001b[0m.\n",
      "\u001b[36m2024-12-30 14:47:00,983\u001b[0m - greekMaster.client.fetcher - \u001b[32mINFO\u001b[0m - Loaded 355868 existing data points.\n",
      "\u001b[36m2024-12-30 14:47:01,177\u001b[0m - greekMaster.client.fetcher - \u001b[32mINFO\u001b[0m - Fetched 1000 new data points.\n",
      "\u001b[36m2024-12-30 14:47:01,384\u001b[0m - greekMaster.client.fetcher - \u001b[32mINFO\u001b[0m - Fetched 1000 new data points.\n",
      "\u001b[36m2024-12-30 14:47:01,592\u001b[0m - greekMaster.client.fetcher - \u001b[32mINFO\u001b[0m - Fetched 1000 new data points.\n",
      "\u001b[36m2024-12-30 14:47:01,792\u001b[0m - greekMaster.client.fetcher - \u001b[32mINFO\u001b[0m - Fetched 1000 new data points.\n",
      "\u001b[36m2024-12-30 14:47:01,999\u001b[0m - greekMaster.client.fetcher - \u001b[32mINFO\u001b[0m - Fetched 1000 new data points.\n",
      "\u001b[36m2024-12-30 14:47:02,209\u001b[0m - greekMaster.client.fetcher - \u001b[32mINFO\u001b[0m - Fetched 1000 new data points.\n",
      "\u001b[36m2024-12-30 14:47:02,654\u001b[0m - greekMaster.client.fetcher - \u001b[32mINFO\u001b[0m - Fetched 1000 new data points.\n",
      "\u001b[36m2024-12-30 14:47:02,888\u001b[0m - greekMaster.client.fetcher - \u001b[32mINFO\u001b[0m - Fetched 1000 new data points.\n",
      "\u001b[36m2024-12-30 14:47:03,107\u001b[0m - greekMaster.client.fetcher - \u001b[32mINFO\u001b[0m - Fetched 1000 new data points.\n",
      "\u001b[36m2024-12-30 14:47:03,322\u001b[0m - greekMaster.client.fetcher - \u001b[32mINFO\u001b[0m - Fetched 1000 new data points.\n",
      "\u001b[36m2024-12-30 14:47:03,524\u001b[0m - greekMaster.client.fetcher - \u001b[32mINFO\u001b[0m - Fetched 1000 new data points.\n",
      "\u001b[36m2024-12-30 14:47:03,728\u001b[0m - greekMaster.client.fetcher - \u001b[32mINFO\u001b[0m - Fetched 1000 new data points.\n",
      "\u001b[36m2024-12-30 14:47:03,931\u001b[0m - greekMaster.client.fetcher - \u001b[32mINFO\u001b[0m - Fetched 1000 new data points.\n",
      "\u001b[36m2024-12-30 14:47:04,135\u001b[0m - greekMaster.client.fetcher - \u001b[32mINFO\u001b[0m - Fetched 194 new data points.\n",
      "\u001b[36m2024-12-30 14:47:04,458\u001b[0m - greekMaster.client.fetcher - \u001b[32mINFO\u001b[0m - Fetching data for \u001b[38;5;214mBTC-27JUN25\u001b[0m.\n",
      "\u001b[36m2024-12-30 14:47:04,486\u001b[0m - greekMaster.client.fetcher - \u001b[32mINFO\u001b[0m - Loaded 16236 existing data points.\n",
      "\u001b[36m2024-12-30 14:47:04,664\u001b[0m - greekMaster.client.fetcher - \u001b[32mINFO\u001b[0m - Fetched 880 new data points.\n",
      "\u001b[36m2024-12-30 14:47:04,687\u001b[0m - greekMaster.client.fetcher - \u001b[32mINFO\u001b[0m - Fetching data for \u001b[38;5;214mBTC-27JUN25\u001b[0m.\n",
      "\u001b[36m2024-12-30 14:47:04,734\u001b[0m - greekMaster.client.fetcher - \u001b[32mINFO\u001b[0m - Loaded 48705 existing data points.\n",
      "\u001b[36m2024-12-30 14:47:04,912\u001b[0m - greekMaster.client.fetcher - \u001b[32mINFO\u001b[0m - Fetched 1000 new data points.\n",
      "\u001b[36m2024-12-30 14:47:05,100\u001b[0m - greekMaster.client.fetcher - \u001b[32mINFO\u001b[0m - Fetched 1000 new data points.\n",
      "\u001b[36m2024-12-30 14:47:05,284\u001b[0m - greekMaster.client.fetcher - \u001b[32mINFO\u001b[0m - Fetched 639 new data points.\n",
      "\u001b[36m2024-12-30 14:47:05,347\u001b[0m - greekMaster.client.fetcher - \u001b[32mINFO\u001b[0m - Fetching data for \u001b[38;5;214mBTC-27JUN25\u001b[0m.\n",
      "\u001b[36m2024-12-30 14:47:05,494\u001b[0m - greekMaster.client.fetcher - \u001b[32mINFO\u001b[0m - Loaded 243522 existing data points.\n",
      "\u001b[36m2024-12-30 14:47:05,841\u001b[0m - greekMaster.client.fetcher - \u001b[32mINFO\u001b[0m - Fetched 1000 new data points.\n",
      "\u001b[36m2024-12-30 14:47:06,033\u001b[0m - greekMaster.client.fetcher - \u001b[32mINFO\u001b[0m - Fetched 1000 new data points.\n",
      "\u001b[36m2024-12-30 14:47:06,233\u001b[0m - greekMaster.client.fetcher - \u001b[32mINFO\u001b[0m - Fetched 1000 new data points.\n",
      "\u001b[36m2024-12-30 14:47:06,428\u001b[0m - greekMaster.client.fetcher - \u001b[32mINFO\u001b[0m - Fetched 1000 new data points.\n",
      "\u001b[36m2024-12-30 14:47:06,955\u001b[0m - greekMaster.client.fetcher - \u001b[32mINFO\u001b[0m - Fetched 1000 new data points.\n",
      "\u001b[36m2024-12-30 14:47:07,143\u001b[0m - greekMaster.client.fetcher - \u001b[32mINFO\u001b[0m - Fetched 1000 new data points.\n",
      "\u001b[36m2024-12-30 14:47:07,341\u001b[0m - greekMaster.client.fetcher - \u001b[32mINFO\u001b[0m - Fetched 1000 new data points.\n",
      "\u001b[36m2024-12-30 14:47:07,549\u001b[0m - greekMaster.client.fetcher - \u001b[32mINFO\u001b[0m - Fetched 1000 new data points.\n",
      "\u001b[36m2024-12-30 14:47:07,743\u001b[0m - greekMaster.client.fetcher - \u001b[32mINFO\u001b[0m - Fetched 1000 new data points.\n",
      "\u001b[36m2024-12-30 14:47:07,939\u001b[0m - greekMaster.client.fetcher - \u001b[32mINFO\u001b[0m - Fetched 1000 new data points.\n",
      "\u001b[36m2024-12-30 14:47:08,129\u001b[0m - greekMaster.client.fetcher - \u001b[32mINFO\u001b[0m - Fetched 1000 new data points.\n",
      "\u001b[36m2024-12-30 14:47:08,322\u001b[0m - greekMaster.client.fetcher - \u001b[32mINFO\u001b[0m - Fetched 1000 new data points.\n",
      "\u001b[36m2024-12-30 14:47:08,514\u001b[0m - greekMaster.client.fetcher - \u001b[32mINFO\u001b[0m - Fetched 1000 new data points.\n",
      "\u001b[36m2024-12-30 14:47:08,702\u001b[0m - greekMaster.client.fetcher - \u001b[32mINFO\u001b[0m - Fetched 194 new data points.\n",
      "\u001b[36m2024-12-30 14:47:08,916\u001b[0m - greekMaster.client.fetcher - \u001b[32mINFO\u001b[0m - Fetching data for \u001b[38;5;214mBTC-26SEP25\u001b[0m.\n",
      "\u001b[36m2024-12-30 14:47:08,926\u001b[0m - greekMaster.client.fetcher - \u001b[32mINFO\u001b[0m - Loaded 7501 existing data points.\n",
      "\u001b[36m2024-12-30 14:47:09,104\u001b[0m - greekMaster.client.fetcher - \u001b[32mINFO\u001b[0m - Fetched 880 new data points.\n",
      "\u001b[36m2024-12-30 14:47:09,119\u001b[0m - greekMaster.client.fetcher - \u001b[32mINFO\u001b[0m - Fetching data for \u001b[38;5;214mBTC-26SEP25\u001b[0m.\n",
      "\u001b[36m2024-12-30 14:47:09,144\u001b[0m - greekMaster.client.fetcher - \u001b[32mINFO\u001b[0m - Loaded 22502 existing data points.\n",
      "\u001b[36m2024-12-30 14:47:09,325\u001b[0m - greekMaster.client.fetcher - \u001b[32mINFO\u001b[0m - Fetched 1000 new data points.\n",
      "\u001b[36m2024-12-30 14:47:09,508\u001b[0m - greekMaster.client.fetcher - \u001b[32mINFO\u001b[0m - Fetched 1000 new data points.\n",
      "\u001b[36m2024-12-30 14:47:09,691\u001b[0m - greekMaster.client.fetcher - \u001b[32mINFO\u001b[0m - Fetched 639 new data points.\n",
      "\u001b[36m2024-12-30 14:47:09,728\u001b[0m - greekMaster.client.fetcher - \u001b[32mINFO\u001b[0m - Fetching data for \u001b[38;5;214mBTC-26SEP25\u001b[0m.\n",
      "\u001b[36m2024-12-30 14:47:09,802\u001b[0m - greekMaster.client.fetcher - \u001b[32mINFO\u001b[0m - Loaded 112508 existing data points.\n",
      "\u001b[36m2024-12-30 14:47:09,982\u001b[0m - greekMaster.client.fetcher - \u001b[32mINFO\u001b[0m - Fetched 1000 new data points.\n",
      "\u001b[36m2024-12-30 14:47:10,172\u001b[0m - greekMaster.client.fetcher - \u001b[32mINFO\u001b[0m - Fetched 1000 new data points.\n",
      "\u001b[36m2024-12-30 14:47:10,362\u001b[0m - greekMaster.client.fetcher - \u001b[32mINFO\u001b[0m - Fetched 1000 new data points.\n",
      "\u001b[36m2024-12-30 14:47:10,553\u001b[0m - greekMaster.client.fetcher - \u001b[32mINFO\u001b[0m - Fetched 1000 new data points.\n",
      "\u001b[36m2024-12-30 14:47:10,742\u001b[0m - greekMaster.client.fetcher - \u001b[32mINFO\u001b[0m - Fetched 1000 new data points.\n",
      "\u001b[36m2024-12-30 14:47:10,928\u001b[0m - greekMaster.client.fetcher - \u001b[32mINFO\u001b[0m - Fetched 1000 new data points.\n",
      "\u001b[36m2024-12-30 14:47:11,113\u001b[0m - greekMaster.client.fetcher - \u001b[32mINFO\u001b[0m - Fetched 1000 new data points.\n",
      "\u001b[36m2024-12-30 14:47:11,304\u001b[0m - greekMaster.client.fetcher - \u001b[32mINFO\u001b[0m - Fetched 1000 new data points.\n",
      "\u001b[36m2024-12-30 14:47:11,490\u001b[0m - greekMaster.client.fetcher - \u001b[32mINFO\u001b[0m - Fetched 1000 new data points.\n",
      "\u001b[36m2024-12-30 14:47:11,684\u001b[0m - greekMaster.client.fetcher - \u001b[32mINFO\u001b[0m - Fetched 1000 new data points.\n",
      "\u001b[36m2024-12-30 14:47:11,872\u001b[0m - greekMaster.client.fetcher - \u001b[32mINFO\u001b[0m - Fetched 1000 new data points.\n",
      "\u001b[36m2024-12-30 14:47:12,061\u001b[0m - greekMaster.client.fetcher - \u001b[32mINFO\u001b[0m - Fetched 1000 new data points.\n",
      "\u001b[36m2024-12-30 14:47:12,245\u001b[0m - greekMaster.client.fetcher - \u001b[32mINFO\u001b[0m - Fetched 1000 new data points.\n",
      "\u001b[36m2024-12-30 14:47:12,430\u001b[0m - greekMaster.client.fetcher - \u001b[32mINFO\u001b[0m - Fetched 194 new data points.\n",
      "\u001b[36m2024-12-30 14:47:12,542\u001b[0m - greekMaster.client.fetcher - \u001b[32mINFO\u001b[0m - Fetching data for \u001b[38;5;214mBTCUSDT\u001b[0m.\n",
      "\u001b[36m2024-12-30 14:47:12,586\u001b[0m - greekMaster.client.fetcher - \u001b[32mINFO\u001b[0m - Loaded 34588 existing data points.\n",
      "\u001b[36m2024-12-30 14:47:12,770\u001b[0m - greekMaster.client.fetcher - \u001b[32mINFO\u001b[0m - Fetched 880 new data points.\n",
      "\u001b[36m2024-12-30 14:47:12,822\u001b[0m - greekMaster.client.fetcher - \u001b[32mINFO\u001b[0m - Fetching data for \u001b[38;5;214mBTCUSDT\u001b[0m.\n",
      "\u001b[36m2024-12-30 14:47:12,968\u001b[0m - greekMaster.client.fetcher - \u001b[32mINFO\u001b[0m - Loaded 102761 existing data points.\n",
      "\u001b[36m2024-12-30 14:47:13,153\u001b[0m - greekMaster.client.fetcher - \u001b[32mINFO\u001b[0m - Fetched 1000 new data points.\n",
      "\u001b[36m2024-12-30 14:47:13,342\u001b[0m - greekMaster.client.fetcher - \u001b[32mINFO\u001b[0m - Fetched 1000 new data points.\n",
      "\u001b[36m2024-12-30 14:47:13,535\u001b[0m - greekMaster.client.fetcher - \u001b[32mINFO\u001b[0m - Fetched 639 new data points.\n",
      "\u001b[36m2024-12-30 14:47:13,662\u001b[0m - greekMaster.client.fetcher - \u001b[32mINFO\u001b[0m - Fetching data for \u001b[38;5;214mBTCUSDT\u001b[0m.\n",
      "\u001b[36m2024-12-30 14:47:14,515\u001b[0m - greekMaster.client.fetcher - \u001b[32mINFO\u001b[0m - Loaded 512803 existing data points.\n",
      "\u001b[36m2024-12-30 14:47:14,710\u001b[0m - greekMaster.client.fetcher - \u001b[32mINFO\u001b[0m - Fetched 1000 new data points.\n",
      "\u001b[36m2024-12-30 14:47:14,956\u001b[0m - greekMaster.client.fetcher - \u001b[32mINFO\u001b[0m - Fetched 1000 new data points.\n",
      "\u001b[36m2024-12-30 14:47:15,208\u001b[0m - greekMaster.client.fetcher - \u001b[32mINFO\u001b[0m - Fetched 1000 new data points.\n",
      "\u001b[36m2024-12-30 14:47:15,625\u001b[0m - greekMaster.client.fetcher - \u001b[32mINFO\u001b[0m - Fetched 1000 new data points.\n",
      "\u001b[36m2024-12-30 14:47:15,868\u001b[0m - greekMaster.client.fetcher - \u001b[32mINFO\u001b[0m - Fetched 1000 new data points.\n",
      "\u001b[36m2024-12-30 14:47:16,798\u001b[0m - greekMaster.client.fetcher - \u001b[32mINFO\u001b[0m - Fetched 1000 new data points.\n",
      "\u001b[36m2024-12-30 14:47:17,241\u001b[0m - greekMaster.client.fetcher - \u001b[32mINFO\u001b[0m - Fetched 1000 new data points.\n",
      "\u001b[36m2024-12-30 14:47:17,489\u001b[0m - greekMaster.client.fetcher - \u001b[32mINFO\u001b[0m - Fetched 1000 new data points.\n",
      "\u001b[36m2024-12-30 14:47:17,731\u001b[0m - greekMaster.client.fetcher - \u001b[32mINFO\u001b[0m - Fetched 1000 new data points.\n",
      "\u001b[36m2024-12-30 14:47:17,988\u001b[0m - greekMaster.client.fetcher - \u001b[32mINFO\u001b[0m - Fetched 1000 new data points.\n",
      "\u001b[36m2024-12-30 14:47:18,232\u001b[0m - greekMaster.client.fetcher - \u001b[32mINFO\u001b[0m - Fetched 1000 new data points.\n",
      "\u001b[36m2024-12-30 14:47:19,150\u001b[0m - greekMaster.client.fetcher - \u001b[32mINFO\u001b[0m - Fetched 1000 new data points.\n",
      "\u001b[36m2024-12-30 14:47:19,386\u001b[0m - greekMaster.client.fetcher - \u001b[32mINFO\u001b[0m - Fetched 1000 new data points.\n",
      "\u001b[36m2024-12-30 14:47:20,130\u001b[0m - greekMaster.client.fetcher - \u001b[32mINFO\u001b[0m - Fetched 194 new data points.\n",
      "\u001b[36m2024-12-30 14:47:20,663\u001b[0m - greekMaster.client.fetcher - \u001b[32mINFO\u001b[0m - Fetching data for \u001b[38;5;214mBTCUSDT\u001b[0m.\n",
      "\u001b[36m2024-12-30 14:47:20,725\u001b[0m - greekMaster.client.fetcher - \u001b[32mINFO\u001b[0m - Loaded 34448 existing data points.\n",
      "\u001b[36m2024-12-30 14:47:20,907\u001b[0m - greekMaster.client.fetcher - \u001b[32mINFO\u001b[0m - Fetched 880 new data points.\n",
      "\u001b[36m2024-12-30 14:47:20,952\u001b[0m - greekMaster.client.fetcher - \u001b[32mINFO\u001b[0m - Fetching data for \u001b[38;5;214mBTCUSDT\u001b[0m.\n",
      "\u001b[36m2024-12-30 14:47:21,090\u001b[0m - greekMaster.client.fetcher - \u001b[32mINFO\u001b[0m - Loaded 102761 existing data points.\n",
      "\u001b[36m2024-12-30 14:47:21,269\u001b[0m - greekMaster.client.fetcher - \u001b[32mINFO\u001b[0m - Fetched 1000 new data points.\n",
      "\u001b[36m2024-12-30 14:47:21,460\u001b[0m - greekMaster.client.fetcher - \u001b[32mINFO\u001b[0m - Fetched 1000 new data points.\n",
      "\u001b[36m2024-12-30 14:47:21,651\u001b[0m - greekMaster.client.fetcher - \u001b[32mINFO\u001b[0m - Fetched 639 new data points.\n",
      "\u001b[36m2024-12-30 14:47:21,773\u001b[0m - greekMaster.client.fetcher - \u001b[32mINFO\u001b[0m - Fetching data for \u001b[38;5;214mBTCUSDT\u001b[0m.\n",
      "\u001b[36m2024-12-30 14:47:22,429\u001b[0m - greekMaster.client.fetcher - \u001b[32mINFO\u001b[0m - Loaded 512641 existing data points.\n",
      "\u001b[36m2024-12-30 14:47:22,609\u001b[0m - greekMaster.client.fetcher - \u001b[32mINFO\u001b[0m - Fetched 1000 new data points.\n",
      "\u001b[36m2024-12-30 14:47:22,829\u001b[0m - greekMaster.client.fetcher - \u001b[32mINFO\u001b[0m - Fetched 1000 new data points.\n",
      "\u001b[36m2024-12-30 14:47:23,055\u001b[0m - greekMaster.client.fetcher - \u001b[32mINFO\u001b[0m - Fetched 1000 new data points.\n",
      "\u001b[36m2024-12-30 14:47:23,455\u001b[0m - greekMaster.client.fetcher - \u001b[32mINFO\u001b[0m - Fetched 1000 new data points.\n",
      "\u001b[36m2024-12-30 14:47:23,672\u001b[0m - greekMaster.client.fetcher - \u001b[32mINFO\u001b[0m - Fetched 1000 new data points.\n",
      "\u001b[36m2024-12-30 14:47:23,891\u001b[0m - greekMaster.client.fetcher - \u001b[32mINFO\u001b[0m - Fetched 1000 new data points.\n",
      "\u001b[36m2024-12-30 14:47:24,111\u001b[0m - greekMaster.client.fetcher - \u001b[32mINFO\u001b[0m - Fetched 1000 new data points.\n",
      "\u001b[36m2024-12-30 14:47:24,325\u001b[0m - greekMaster.client.fetcher - \u001b[32mINFO\u001b[0m - Fetched 1000 new data points.\n",
      "\u001b[36m2024-12-30 14:47:24,543\u001b[0m - greekMaster.client.fetcher - \u001b[32mINFO\u001b[0m - Fetched 1000 new data points.\n",
      "\u001b[36m2024-12-30 14:47:24,768\u001b[0m - greekMaster.client.fetcher - \u001b[32mINFO\u001b[0m - Fetched 1000 new data points.\n",
      "\u001b[36m2024-12-30 14:47:24,984\u001b[0m - greekMaster.client.fetcher - \u001b[32mINFO\u001b[0m - Fetched 1000 new data points.\n",
      "\u001b[36m2024-12-30 14:47:25,201\u001b[0m - greekMaster.client.fetcher - \u001b[32mINFO\u001b[0m - Fetched 1000 new data points.\n",
      "\u001b[36m2024-12-30 14:47:25,422\u001b[0m - greekMaster.client.fetcher - \u001b[32mINFO\u001b[0m - Fetched 1000 new data points.\n",
      "\u001b[36m2024-12-30 14:47:25,646\u001b[0m - greekMaster.client.fetcher - \u001b[32mINFO\u001b[0m - Fetched 194 new data points.\n",
      "\u001b[36m2024-12-30 14:47:26,158\u001b[0m - greekMaster.client.fetcher - \u001b[32mINFO\u001b[0m - Fetching data for \u001b[38;5;214mBTCPERP\u001b[0m.\n",
      "\u001b[36m2024-12-30 14:47:26,204\u001b[0m - greekMaster.client.fetcher - \u001b[32mINFO\u001b[0m - Loaded 34749 existing data points.\n",
      "\u001b[36m2024-12-30 14:47:26,382\u001b[0m - greekMaster.client.fetcher - \u001b[32mINFO\u001b[0m - Fetched 880 new data points.\n",
      "\u001b[36m2024-12-30 14:47:26,430\u001b[0m - greekMaster.client.fetcher - \u001b[32mINFO\u001b[0m - Fetching data for \u001b[38;5;214mBTCPERP\u001b[0m.\n",
      "\u001b[36m2024-12-30 14:47:26,556\u001b[0m - greekMaster.client.fetcher - \u001b[32mINFO\u001b[0m - Loaded 103245 existing data points.\n",
      "\u001b[36m2024-12-30 14:47:26,736\u001b[0m - greekMaster.client.fetcher - \u001b[32mINFO\u001b[0m - Fetched 1000 new data points.\n",
      "\u001b[36m2024-12-30 14:47:26,931\u001b[0m - greekMaster.client.fetcher - \u001b[32mINFO\u001b[0m - Fetched 1000 new data points.\n",
      "\u001b[36m2024-12-30 14:47:27,125\u001b[0m - greekMaster.client.fetcher - \u001b[32mINFO\u001b[0m - Fetched 639 new data points.\n",
      "\u001b[36m2024-12-30 14:47:27,247\u001b[0m - greekMaster.client.fetcher - \u001b[32mINFO\u001b[0m - Fetching data for \u001b[38;5;214mBTCPERP\u001b[0m.\n",
      "\u001b[36m2024-12-30 14:47:27,866\u001b[0m - greekMaster.client.fetcher - \u001b[32mINFO\u001b[0m - Loaded 512224 existing data points.\n",
      "\u001b[36m2024-12-30 14:47:28,045\u001b[0m - greekMaster.client.fetcher - \u001b[32mINFO\u001b[0m - Fetched 1000 new data points.\n",
      "\u001b[36m2024-12-30 14:47:28,265\u001b[0m - greekMaster.client.fetcher - \u001b[32mINFO\u001b[0m - Fetched 1000 new data points.\n",
      "\u001b[36m2024-12-30 14:47:28,497\u001b[0m - greekMaster.client.fetcher - \u001b[32mINFO\u001b[0m - Fetched 1000 new data points.\n",
      "\u001b[36m2024-12-30 14:47:29,082\u001b[0m - greekMaster.client.fetcher - \u001b[32mINFO\u001b[0m - Fetched 1000 new data points.\n",
      "\u001b[36m2024-12-30 14:47:29,297\u001b[0m - greekMaster.client.fetcher - \u001b[32mINFO\u001b[0m - Fetched 1000 new data points.\n",
      "\u001b[36m2024-12-30 14:47:29,512\u001b[0m - greekMaster.client.fetcher - \u001b[32mINFO\u001b[0m - Fetched 1000 new data points.\n",
      "\u001b[36m2024-12-30 14:47:29,737\u001b[0m - greekMaster.client.fetcher - \u001b[32mINFO\u001b[0m - Fetched 1000 new data points.\n",
      "\u001b[36m2024-12-30 14:47:29,953\u001b[0m - greekMaster.client.fetcher - \u001b[32mINFO\u001b[0m - Fetched 1000 new data points.\n",
      "\u001b[36m2024-12-30 14:47:30,171\u001b[0m - greekMaster.client.fetcher - \u001b[32mINFO\u001b[0m - Fetched 1000 new data points.\n",
      "\u001b[36m2024-12-30 14:47:30,388\u001b[0m - greekMaster.client.fetcher - \u001b[32mINFO\u001b[0m - Fetched 1000 new data points.\n",
      "\u001b[36m2024-12-30 14:47:30,604\u001b[0m - greekMaster.client.fetcher - \u001b[32mINFO\u001b[0m - Fetched 1000 new data points.\n",
      "\u001b[36m2024-12-30 14:47:30,819\u001b[0m - greekMaster.client.fetcher - \u001b[32mINFO\u001b[0m - Fetched 1000 new data points.\n",
      "\u001b[36m2024-12-30 14:47:31,368\u001b[0m - greekMaster.client.fetcher - \u001b[32mINFO\u001b[0m - Fetched 1000 new data points.\n",
      "\u001b[36m2024-12-30 14:47:31,589\u001b[0m - greekMaster.client.fetcher - \u001b[32mINFO\u001b[0m - Fetched 194 new data points.\n"
     ]
    }
   ],
   "source": [
    "# Future contracts\n",
    "await master.client.fetcher.save_klines(dest=\"store\")"
   ]
  },
  {
   "cell_type": "markdown",
   "metadata": {},
   "source": [
    "## Plot testing\n",
    "\n",
    "Part to test the plot of the data.\n"
   ]
  },
  {
   "cell_type": "code",
   "execution_count": null,
   "metadata": {},
   "outputs": [],
   "source": [
    "# Yes\n",
    "# master.client.fetcher.get_futureNames(quoteCoins=[\"USDT\"])"
   ]
  },
  {
   "cell_type": "markdown",
   "metadata": {},
   "source": [
    "## Long Spot x Short Future\n",
    "\n",
    "Spot USDC is 0% fees and Future is 0.0550% taker fees (0% with contract delivery).\n",
    "Problem is that spot cannot be used with leverage. Could borrow but that would be awkward. (tried it)"
   ]
  },
  {
   "cell_type": "code",
   "execution_count": null,
   "metadata": {},
   "outputs": [],
   "source": [
    "Bybit.utils.load_klines_parquet(\"store/BTC-20DEC24_1.parquet\", pretty=True)\n",
    "\n",
    "Bybit.utils.plot_compare(\"store/BTCUSDT_1.parquet\", \"store/BTC-20DEC24_1.parquet\")"
   ]
  },
  {
   "cell_type": "code",
   "execution_count": null,
   "metadata": {},
   "outputs": [],
   "source": [
    "# Long position, then short position\n",
    "Bybit.utils.plot_compare(\"store/BTCUSDT_1.parquet\", \"store/BTC-15NOV24_1.parquet\")"
   ]
  },
  {
   "cell_type": "markdown",
   "metadata": {},
   "source": [
    "## Long Perpetual x Short Future\n",
    "\n",
    "Perpetual USDT is 0.0550% taker fees and Future is 0.0550% taker fees (0% with contract delivery).\n",
    "Yes we have fees, but wen can use leverage on both sides.\n",
    "\n",
    "We use Perpetual USDT because there is more liquidity."
   ]
  },
  {
   "cell_type": "code",
   "execution_count": null,
   "metadata": {},
   "outputs": [],
   "source": [
    "Bybit.utils.plot_compare(\"store/BTCPERP_5.parquet\", \"store/BTC-29NOV24_5.parquet\")"
   ]
  },
  {
   "cell_type": "code",
   "execution_count": null,
   "metadata": {},
   "outputs": [],
   "source": [
    "Bybit.utils.plot_compare(\"store/BTCUSDT_5.parquet\", \"store/BTC-29NOV24_5.parquet\")"
   ]
  },
  {
   "cell_type": "markdown",
   "metadata": {},
   "source": [
    "## Long Spot x Short Inverse Future\n",
    "\n",
    "What if I buy spot and collateralize it to short inverse future?\n",
    "We effectively capture the difference."
   ]
  },
  {
   "cell_type": "code",
   "execution_count": null,
   "metadata": {},
   "outputs": [],
   "source": [
    "# Keep going when get_history_pd file names are changed"
   ]
  },
  {
   "cell_type": "markdown",
   "metadata": {},
   "source": [
    "## OKX 20x Leverage test\n",
    "\n",
    "I launched a test with OKX with a short on BTCUSDT-27JUN25 and long on BTCUSDT-29NOV24.\n",
    "\n",
    "Following section will track the the two contracts' data"
   ]
  },
  {
   "cell_type": "code",
   "execution_count": null,
   "metadata": {},
   "outputs": [],
   "source": [
    "Bybit.utils.plot_compare(\"store/BTC-29NOV24_15.parquet\", \"store/BTC-27JUN25_15.parquet\", dateLimit=\"2024-05-06\")"
   ]
  }
 ],
 "metadata": {
  "kernelspec": {
   "display_name": "sandbox",
   "language": "python",
   "name": "python3"
  },
  "language_info": {
   "codemirror_mode": {
    "name": "ipython",
    "version": 3
   },
   "file_extension": ".py",
   "mimetype": "text/x-python",
   "name": "python",
   "nbconvert_exporter": "python",
   "pygments_lexer": "ipython3",
   "version": "3.10.14"
  }
 },
 "nbformat": 4,
 "nbformat_minor": 2
}
