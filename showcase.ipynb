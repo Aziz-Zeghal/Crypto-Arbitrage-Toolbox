{
 "cells": [
  {
   "cell_type": "markdown",
   "metadata": {},
   "source": [
    "# Showcase of Bybit Future - Future calc\n",
    "The Bybitmaster has custom methods that I coded, but can also make normal request to the Bybit API with the session attribute."
   ]
  },
  {
   "cell_type": "code",
   "execution_count": 1,
   "metadata": {},
   "outputs": [
    {
     "name": "stdout",
     "output_type": "stream",
     "text": [
      "\u001b[36m2024-12-18 22:12:45,964\u001b[0m - root - \u001b[32mINFO\u001b[0m - Global logging configuration applied with verbosity level 1\n",
      "\u001b[36m2024-12-18 22:12:45,965\u001b[0m - greekMaster - \u001b[32mINFO\u001b[0m - GreekMaster initialized\n"
     ]
    }
   ],
   "source": [
    "# Inside of the module, we use absolute imports\n",
    "# Because this context is different, we need to add inside the PYTHONPATH the path of the module\n",
    "import sys\n",
    "sys.path.append('Bybit')\n",
    "\n",
    "from Bybit.greekMaster import GreekMaster\n",
    "import Bybit.utils\n",
    "\n",
    "Bybit.utils.configure_logging(run_name=\"save_klines.log\", verbose=1)\n",
    "\n",
    "# Create a Bybit master\n",
    "master = GreekMaster(demo=True)"
   ]
  },
  {
   "cell_type": "code",
   "execution_count": null,
   "metadata": {},
   "outputs": [],
   "source": [
    "# Get all futures BTC gaps\n",
    "DataWrangler = master.all_gaps_pd(inverse=True, spot=True, pretty=True, applyFees=True)\n",
    "DataWrangler"
   ]
  },
  {
   "cell_type": "code",
   "execution_count": null,
   "metadata": {},
   "outputs": [],
   "source": [
    "await master.client.fetcher.get_history_pd(\"BTCUSDH25\", category=\"linear\", interval=\"15\")\n",
    "fig, df = Bybit.utils.plot_candles(\"BTCUSDH25_15.parquet\")\n",
    "fig\n",
    "\n",
    "# master.client.fetcher.session.get_instruments_info(symbol=\"BTCUSDH25\", category=\"inverse\")\n",
    "\n",
    "# Bybit.utils.get_date(1743148800000)\n",
    "# start = Bybit.utils.get_date(1726214400000)"
   ]
  },
  {
   "cell_type": "markdown",
   "metadata": {},
   "source": [
    "## Tester\n",
    "Just to run some tests"
   ]
  },
  {
   "cell_type": "code",
   "execution_count": null,
   "metadata": {},
   "outputs": [],
   "source": [
    "# 1 - Simple enter position logic (given a future and a perpetual)\n",
    "# 2 - Simple exit position logic (given a future and a perpetual). Can also exit when reaching a satisfying unexpected gap\n",
    "# 3 - Logic to activate both operations (given a future and a perpetual). Enter again when reaching a satisfying unexpected gap\n",
    "# 4 - Logic to find the best future and perpetual to trade\n",
    "# 5 - Logic to keep the loop running\n",
    "# 6 - Monitoring features\n",
    "# 7 - Use systemctl to launch 24/7\n",
    "# We use sockets, once we selected the best local future, compared to their average gap.\n",
    "# Shared state to store the latest updates"
   ]
  },
  {
   "cell_type": "markdown",
   "metadata": {},
   "source": [
    "## Fetching time :)\n",
    "\n",
    "Getting 15, 5 and 1 minute candles for everything since 01/01/2024"
   ]
  },
  {
   "cell_type": "code",
   "execution_count": 2,
   "metadata": {},
   "outputs": [
    {
     "name": "stdout",
     "output_type": "stream",
     "text": [
      "\u001b[36m2024-12-18 22:12:57,412\u001b[0m - greekMaster.client.fetcher - \u001b[32mINFO\u001b[0m - Fetching data for \u001b[38;5;214mBTC-20DEC24\u001b[0m.\n",
      "\u001b[36m2024-12-18 22:12:57,618\u001b[0m - greekMaster.client.fetcher - \u001b[32mINFO\u001b[0m - Loaded 1451 existing data points.\n",
      "\u001b[36m2024-12-18 22:12:57,953\u001b[0m - greekMaster.client.fetcher - \u001b[32mINFO\u001b[0m - Fetched 431 new data points.\n",
      "\u001b[36m2024-12-18 22:12:57,962\u001b[0m - greekMaster.client.fetcher - \u001b[32mINFO\u001b[0m - Fetching data for \u001b[38;5;214mBTC-20DEC24\u001b[0m.\n",
      "\u001b[36m2024-12-18 22:12:57,970\u001b[0m - greekMaster.client.fetcher - \u001b[32mINFO\u001b[0m - Loaded 4352 existing data points.\n",
      "\u001b[36m2024-12-18 22:12:58,800\u001b[0m - greekMaster.client.fetcher - \u001b[32mINFO\u001b[0m - Fetched 1000 new data points.\n",
      "\u001b[36m2024-12-18 22:12:59,493\u001b[0m - greekMaster.client.fetcher - \u001b[32mINFO\u001b[0m - Fetched 293 new data points.\n",
      "\u001b[36m2024-12-18 22:12:59,506\u001b[0m - greekMaster.client.fetcher - \u001b[32mINFO\u001b[0m - Fetching data for \u001b[38;5;214mBTC-20DEC24\u001b[0m.\n",
      "\u001b[36m2024-12-18 22:12:59,527\u001b[0m - greekMaster.client.fetcher - \u001b[32mINFO\u001b[0m - Loaded 21758 existing data points.\n",
      "\u001b[36m2024-12-18 22:12:59,895\u001b[0m - greekMaster.client.fetcher - \u001b[32mINFO\u001b[0m - Fetched 1000 new data points.\n",
      "\u001b[36m2024-12-18 22:13:00,229\u001b[0m - greekMaster.client.fetcher - \u001b[32mINFO\u001b[0m - Fetched 1000 new data points.\n",
      "\u001b[36m2024-12-18 22:13:00,728\u001b[0m - greekMaster.client.fetcher - \u001b[32mINFO\u001b[0m - Fetched 1000 new data points.\n",
      "\u001b[36m2024-12-18 22:13:01,614\u001b[0m - greekMaster.client.fetcher - \u001b[32mINFO\u001b[0m - Fetched 1000 new data points.\n",
      "\u001b[36m2024-12-18 22:13:02,439\u001b[0m - greekMaster.client.fetcher - \u001b[32mINFO\u001b[0m - Fetched 1000 new data points.\n",
      "\u001b[36m2024-12-18 22:13:02,613\u001b[0m - greekMaster.client.fetcher - \u001b[32mINFO\u001b[0m - Fetched 1000 new data points.\n",
      "\u001b[36m2024-12-18 22:13:02,786\u001b[0m - greekMaster.client.fetcher - \u001b[32mINFO\u001b[0m - Fetched 463 new data points.\n",
      "\u001b[36m2024-12-18 22:13:02,816\u001b[0m - greekMaster.client.fetcher - \u001b[32mINFO\u001b[0m - Fetching data for \u001b[38;5;214mBTC-27DEC24\u001b[0m.\n",
      "\u001b[36m2024-12-18 22:13:02,848\u001b[0m - greekMaster.client.fetcher - \u001b[32mINFO\u001b[0m - Loaded 24299 existing data points.\n",
      "\u001b[36m2024-12-18 22:13:03,018\u001b[0m - greekMaster.client.fetcher - \u001b[32mINFO\u001b[0m - Fetched 431 new data points.\n",
      "\u001b[36m2024-12-18 22:13:03,049\u001b[0m - greekMaster.client.fetcher - \u001b[32mINFO\u001b[0m - Fetching data for \u001b[38;5;214mBTC-27DEC24\u001b[0m.\n",
      "\u001b[36m2024-12-18 22:13:03,144\u001b[0m - greekMaster.client.fetcher - \u001b[32mINFO\u001b[0m - Loaded 72896 existing data points.\n",
      "\u001b[36m2024-12-18 22:13:03,639\u001b[0m - greekMaster.client.fetcher - \u001b[32mINFO\u001b[0m - Fetched 1000 new data points.\n",
      "\u001b[36m2024-12-18 22:13:04,302\u001b[0m - greekMaster.client.fetcher - \u001b[32mINFO\u001b[0m - Fetched 293 new data points.\n",
      "\u001b[36m2024-12-18 22:13:04,382\u001b[0m - greekMaster.client.fetcher - \u001b[32mINFO\u001b[0m - Fetching data for \u001b[38;5;214mBTC-27DEC24\u001b[0m.\n",
      "\u001b[36m2024-12-18 22:13:04,645\u001b[0m - greekMaster.client.fetcher - \u001b[32mINFO\u001b[0m - Loaded 364478 existing data points.\n",
      "\u001b[36m2024-12-18 22:13:04,817\u001b[0m - greekMaster.client.fetcher - \u001b[32mINFO\u001b[0m - Fetched 1000 new data points.\n",
      "\u001b[36m2024-12-18 22:13:05,180\u001b[0m - greekMaster.client.fetcher - \u001b[32mINFO\u001b[0m - Fetched 1000 new data points.\n",
      "\u001b[36m2024-12-18 22:13:05,536\u001b[0m - greekMaster.client.fetcher - \u001b[32mINFO\u001b[0m - Fetched 1000 new data points.\n",
      "\u001b[36m2024-12-18 22:13:06,337\u001b[0m - greekMaster.client.fetcher - \u001b[32mINFO\u001b[0m - Fetched 1000 new data points.\n",
      "\u001b[36m2024-12-18 22:13:06,533\u001b[0m - greekMaster.client.fetcher - \u001b[32mINFO\u001b[0m - Fetched 1000 new data points.\n",
      "\u001b[36m2024-12-18 22:13:06,723\u001b[0m - greekMaster.client.fetcher - \u001b[32mINFO\u001b[0m - Fetched 1000 new data points.\n",
      "\u001b[36m2024-12-18 22:13:06,918\u001b[0m - greekMaster.client.fetcher - \u001b[32mINFO\u001b[0m - Fetched 463 new data points.\n",
      "\u001b[36m2024-12-18 22:13:07,244\u001b[0m - greekMaster.client.fetcher - \u001b[32mINFO\u001b[0m - Fetching data for \u001b[38;5;214mBTC-03JAN25\u001b[0m.\n",
      "\u001b[36m2024-12-18 22:13:07,248\u001b[0m - greekMaster.client.fetcher - \u001b[32mINFO\u001b[0m - Loaded 107 existing data points.\n",
      "\u001b[36m2024-12-18 22:13:07,420\u001b[0m - greekMaster.client.fetcher - \u001b[32mINFO\u001b[0m - Fetched 431 new data points.\n",
      "\u001b[36m2024-12-18 22:13:07,425\u001b[0m - greekMaster.client.fetcher - \u001b[32mINFO\u001b[0m - Fetching data for \u001b[38;5;214mBTC-03JAN25\u001b[0m.\n",
      "\u001b[36m2024-12-18 22:13:07,428\u001b[0m - greekMaster.client.fetcher - \u001b[32mINFO\u001b[0m - Loaded 320 existing data points.\n",
      "\u001b[36m2024-12-18 22:13:07,600\u001b[0m - greekMaster.client.fetcher - \u001b[32mINFO\u001b[0m - Fetched 1000 new data points.\n",
      "\u001b[36m2024-12-18 22:13:07,772\u001b[0m - greekMaster.client.fetcher - \u001b[32mINFO\u001b[0m - Fetched 293 new data points.\n",
      "\u001b[36m2024-12-18 22:13:07,779\u001b[0m - greekMaster.client.fetcher - \u001b[32mINFO\u001b[0m - Fetching data for \u001b[38;5;214mBTC-03JAN25\u001b[0m.\n",
      "\u001b[36m2024-12-18 22:13:07,784\u001b[0m - greekMaster.client.fetcher - \u001b[32mINFO\u001b[0m - Loaded 1598 existing data points.\n",
      "\u001b[36m2024-12-18 22:13:07,955\u001b[0m - greekMaster.client.fetcher - \u001b[32mINFO\u001b[0m - Fetched 1000 new data points.\n",
      "\u001b[36m2024-12-18 22:13:08,120\u001b[0m - greekMaster.client.fetcher - \u001b[32mINFO\u001b[0m - Fetched 1000 new data points.\n",
      "\u001b[36m2024-12-18 22:13:08,292\u001b[0m - greekMaster.client.fetcher - \u001b[32mINFO\u001b[0m - Fetched 1000 new data points.\n",
      "\u001b[36m2024-12-18 22:13:08,465\u001b[0m - greekMaster.client.fetcher - \u001b[32mINFO\u001b[0m - Fetched 1000 new data points.\n",
      "\u001b[36m2024-12-18 22:13:09,299\u001b[0m - greekMaster.client.fetcher - \u001b[32mINFO\u001b[0m - Fetched 1000 new data points.\n",
      "\u001b[36m2024-12-18 22:13:09,475\u001b[0m - greekMaster.client.fetcher - \u001b[32mINFO\u001b[0m - Fetched 1000 new data points.\n",
      "\u001b[36m2024-12-18 22:13:09,648\u001b[0m - greekMaster.client.fetcher - \u001b[32mINFO\u001b[0m - Fetched 463 new data points.\n",
      "\u001b[36m2024-12-18 22:13:09,662\u001b[0m - greekMaster.client.fetcher - \u001b[32mINFO\u001b[0m - Fetching data for \u001b[38;5;214mBTC-31JAN25\u001b[0m.\n",
      "\u001b[36m2024-12-18 22:13:09,669\u001b[0m - greekMaster.client.fetcher - \u001b[32mINFO\u001b[0m - Loaded 3467 existing data points.\n",
      "\u001b[36m2024-12-18 22:13:09,839\u001b[0m - greekMaster.client.fetcher - \u001b[32mINFO\u001b[0m - Fetched 431 new data points.\n",
      "\u001b[36m2024-12-18 22:13:09,848\u001b[0m - greekMaster.client.fetcher - \u001b[32mINFO\u001b[0m - Fetching data for \u001b[38;5;214mBTC-31JAN25\u001b[0m.\n",
      "\u001b[36m2024-12-18 22:13:09,862\u001b[0m - greekMaster.client.fetcher - \u001b[32mINFO\u001b[0m - Loaded 10400 existing data points.\n",
      "\u001b[36m2024-12-18 22:13:10,034\u001b[0m - greekMaster.client.fetcher - \u001b[32mINFO\u001b[0m - Fetched 1000 new data points.\n",
      "\u001b[36m2024-12-18 22:13:10,207\u001b[0m - greekMaster.client.fetcher - \u001b[32mINFO\u001b[0m - Fetched 293 new data points.\n",
      "\u001b[36m2024-12-18 22:13:10,226\u001b[0m - greekMaster.client.fetcher - \u001b[32mINFO\u001b[0m - Fetching data for \u001b[38;5;214mBTC-31JAN25\u001b[0m.\n",
      "\u001b[36m2024-12-18 22:13:10,260\u001b[0m - greekMaster.client.fetcher - \u001b[32mINFO\u001b[0m - Loaded 51998 existing data points.\n",
      "\u001b[36m2024-12-18 22:13:10,432\u001b[0m - greekMaster.client.fetcher - \u001b[32mINFO\u001b[0m - Fetched 1000 new data points.\n",
      "\u001b[36m2024-12-18 22:13:11,324\u001b[0m - greekMaster.client.fetcher - \u001b[32mINFO\u001b[0m - Fetched 1000 new data points.\n",
      "\u001b[36m2024-12-18 22:13:11,493\u001b[0m - greekMaster.client.fetcher - \u001b[32mINFO\u001b[0m - Fetched 1000 new data points.\n",
      "\u001b[36m2024-12-18 22:13:11,859\u001b[0m - greekMaster.client.fetcher - \u001b[32mINFO\u001b[0m - Fetched 1000 new data points.\n",
      "\u001b[36m2024-12-18 22:13:12,063\u001b[0m - greekMaster.client.fetcher - \u001b[32mINFO\u001b[0m - Fetched 1000 new data points.\n",
      "\u001b[36m2024-12-18 22:13:12,253\u001b[0m - greekMaster.client.fetcher - \u001b[32mINFO\u001b[0m - Fetched 1000 new data points.\n",
      "\u001b[36m2024-12-18 22:13:12,428\u001b[0m - greekMaster.client.fetcher - \u001b[32mINFO\u001b[0m - Fetched 463 new data points.\n",
      "\u001b[36m2024-12-18 22:13:12,490\u001b[0m - greekMaster.client.fetcher - \u001b[32mINFO\u001b[0m - Fetching data for \u001b[38;5;214mBTC-28FEB25\u001b[0m.\n",
      "\u001b[36m2024-12-18 22:13:12,494\u001b[0m - greekMaster.client.fetcher - \u001b[32mINFO\u001b[0m - Loaded 779 existing data points.\n",
      "\u001b[36m2024-12-18 22:13:12,665\u001b[0m - greekMaster.client.fetcher - \u001b[32mINFO\u001b[0m - Fetched 431 new data points.\n",
      "\u001b[36m2024-12-18 22:13:12,711\u001b[0m - greekMaster.client.fetcher - \u001b[32mINFO\u001b[0m - Fetching data for \u001b[38;5;214mBTC-28FEB25\u001b[0m.\n",
      "\u001b[36m2024-12-18 22:13:12,725\u001b[0m - greekMaster.client.fetcher - \u001b[32mINFO\u001b[0m - Loaded 2336 existing data points.\n",
      "\u001b[36m2024-12-18 22:13:12,897\u001b[0m - greekMaster.client.fetcher - \u001b[32mINFO\u001b[0m - Fetched 1000 new data points.\n",
      "\u001b[36m2024-12-18 22:13:13,068\u001b[0m - greekMaster.client.fetcher - \u001b[32mINFO\u001b[0m - Fetched 293 new data points.\n",
      "\u001b[36m2024-12-18 22:13:13,077\u001b[0m - greekMaster.client.fetcher - \u001b[32mINFO\u001b[0m - Fetching data for \u001b[38;5;214mBTC-28FEB25\u001b[0m.\n",
      "\u001b[36m2024-12-18 22:13:13,089\u001b[0m - greekMaster.client.fetcher - \u001b[32mINFO\u001b[0m - Loaded 11678 existing data points.\n",
      "\u001b[36m2024-12-18 22:13:13,455\u001b[0m - greekMaster.client.fetcher - \u001b[32mINFO\u001b[0m - Fetched 1000 new data points.\n",
      "\u001b[36m2024-12-18 22:13:13,628\u001b[0m - greekMaster.client.fetcher - \u001b[32mINFO\u001b[0m - Fetched 1000 new data points.\n",
      "\u001b[36m2024-12-18 22:13:13,945\u001b[0m - greekMaster.client.fetcher - \u001b[32mINFO\u001b[0m - Fetched 1000 new data points.\n",
      "\u001b[36m2024-12-18 22:13:14,120\u001b[0m - greekMaster.client.fetcher - \u001b[32mINFO\u001b[0m - Fetched 1000 new data points.\n",
      "\u001b[36m2024-12-18 22:13:14,286\u001b[0m - greekMaster.client.fetcher - \u001b[32mINFO\u001b[0m - Fetched 1000 new data points.\n",
      "\u001b[36m2024-12-18 22:13:14,459\u001b[0m - greekMaster.client.fetcher - \u001b[32mINFO\u001b[0m - Fetched 1000 new data points.\n",
      "\u001b[36m2024-12-18 22:13:14,631\u001b[0m - greekMaster.client.fetcher - \u001b[32mINFO\u001b[0m - Fetched 463 new data points.\n",
      "\u001b[36m2024-12-18 22:13:14,653\u001b[0m - greekMaster.client.fetcher - \u001b[32mINFO\u001b[0m - Fetching data for \u001b[38;5;214mBTC-28MAR25\u001b[0m.\n",
      "\u001b[36m2024-12-18 22:13:14,684\u001b[0m - greekMaster.client.fetcher - \u001b[32mINFO\u001b[0m - Loaded 23051 existing data points.\n",
      "\u001b[36m2024-12-18 22:13:14,855\u001b[0m - greekMaster.client.fetcher - \u001b[32mINFO\u001b[0m - Fetched 431 new data points.\n",
      "\u001b[36m2024-12-18 22:13:14,888\u001b[0m - greekMaster.client.fetcher - \u001b[32mINFO\u001b[0m - Fetching data for \u001b[38;5;214mBTC-28MAR25\u001b[0m.\n",
      "\u001b[36m2024-12-18 22:13:14,967\u001b[0m - greekMaster.client.fetcher - \u001b[32mINFO\u001b[0m - Loaded 69152 existing data points.\n",
      "\u001b[36m2024-12-18 22:13:15,142\u001b[0m - greekMaster.client.fetcher - \u001b[32mINFO\u001b[0m - Fetched 1000 new data points.\n",
      "\u001b[36m2024-12-18 22:13:15,318\u001b[0m - greekMaster.client.fetcher - \u001b[32mINFO\u001b[0m - Fetched 293 new data points.\n",
      "\u001b[36m2024-12-18 22:13:15,394\u001b[0m - greekMaster.client.fetcher - \u001b[32mINFO\u001b[0m - Fetching data for \u001b[38;5;214mBTC-28MAR25\u001b[0m.\n",
      "\u001b[36m2024-12-18 22:13:15,634\u001b[0m - greekMaster.client.fetcher - \u001b[32mINFO\u001b[0m - Loaded 345758 existing data points.\n",
      "\u001b[36m2024-12-18 22:13:15,806\u001b[0m - greekMaster.client.fetcher - \u001b[32mINFO\u001b[0m - Fetched 1000 new data points.\n",
      "\u001b[36m2024-12-18 22:13:15,989\u001b[0m - greekMaster.client.fetcher - \u001b[32mINFO\u001b[0m - Fetched 1000 new data points.\n",
      "\u001b[36m2024-12-18 22:13:16,186\u001b[0m - greekMaster.client.fetcher - \u001b[32mINFO\u001b[0m - Fetched 1000 new data points.\n",
      "\u001b[36m2024-12-18 22:13:16,382\u001b[0m - greekMaster.client.fetcher - \u001b[32mINFO\u001b[0m - Fetched 1000 new data points.\n",
      "\u001b[36m2024-12-18 22:13:16,562\u001b[0m - greekMaster.client.fetcher - \u001b[32mINFO\u001b[0m - Fetched 1000 new data points.\n",
      "\u001b[36m2024-12-18 22:13:16,755\u001b[0m - greekMaster.client.fetcher - \u001b[32mINFO\u001b[0m - Fetched 1000 new data points.\n",
      "\u001b[36m2024-12-18 22:13:16,956\u001b[0m - greekMaster.client.fetcher - \u001b[32mINFO\u001b[0m - Fetched 463 new data points.\n",
      "\u001b[36m2024-12-18 22:13:17,226\u001b[0m - greekMaster.client.fetcher - \u001b[32mINFO\u001b[0m - Fetching data for \u001b[38;5;214mBTC-27JUN25\u001b[0m.\n",
      "\u001b[36m2024-12-18 22:13:17,254\u001b[0m - greekMaster.client.fetcher - \u001b[32mINFO\u001b[0m - Loaded 15562 existing data points.\n",
      "\u001b[36m2024-12-18 22:13:17,418\u001b[0m - greekMaster.client.fetcher - \u001b[32mINFO\u001b[0m - Fetched 431 new data points.\n",
      "\u001b[36m2024-12-18 22:13:17,442\u001b[0m - greekMaster.client.fetcher - \u001b[32mINFO\u001b[0m - Fetching data for \u001b[38;5;214mBTC-27JUN25\u001b[0m.\n",
      "\u001b[36m2024-12-18 22:13:17,489\u001b[0m - greekMaster.client.fetcher - \u001b[32mINFO\u001b[0m - Loaded 46683 existing data points.\n",
      "\u001b[36m2024-12-18 22:13:17,676\u001b[0m - greekMaster.client.fetcher - \u001b[32mINFO\u001b[0m - Fetched 1000 new data points.\n",
      "\u001b[36m2024-12-18 22:13:17,850\u001b[0m - greekMaster.client.fetcher - \u001b[32mINFO\u001b[0m - Fetched 293 new data points.\n",
      "\u001b[36m2024-12-18 22:13:17,903\u001b[0m - greekMaster.client.fetcher - \u001b[32mINFO\u001b[0m - Fetching data for \u001b[38;5;214mBTC-27JUN25\u001b[0m.\n",
      "\u001b[36m2024-12-18 22:13:18,038\u001b[0m - greekMaster.client.fetcher - \u001b[32mINFO\u001b[0m - Loaded 233412 existing data points.\n",
      "\u001b[36m2024-12-18 22:13:18,210\u001b[0m - greekMaster.client.fetcher - \u001b[32mINFO\u001b[0m - Fetched 1000 new data points.\n",
      "\u001b[36m2024-12-18 22:13:18,402\u001b[0m - greekMaster.client.fetcher - \u001b[32mINFO\u001b[0m - Fetched 1000 new data points.\n",
      "\u001b[36m2024-12-18 22:13:18,589\u001b[0m - greekMaster.client.fetcher - \u001b[32mINFO\u001b[0m - Fetched 1000 new data points.\n",
      "\u001b[36m2024-12-18 22:13:18,776\u001b[0m - greekMaster.client.fetcher - \u001b[32mINFO\u001b[0m - Fetched 1000 new data points.\n",
      "\u001b[36m2024-12-18 22:13:18,963\u001b[0m - greekMaster.client.fetcher - \u001b[32mINFO\u001b[0m - Fetched 1000 new data points.\n",
      "\u001b[36m2024-12-18 22:13:19,149\u001b[0m - greekMaster.client.fetcher - \u001b[32mINFO\u001b[0m - Fetched 1000 new data points.\n",
      "\u001b[36m2024-12-18 22:13:19,326\u001b[0m - greekMaster.client.fetcher - \u001b[32mINFO\u001b[0m - Fetched 463 new data points.\n",
      "\u001b[36m2024-12-18 22:13:19,527\u001b[0m - greekMaster.client.fetcher - \u001b[32mINFO\u001b[0m - Fetching data for \u001b[38;5;214mBTC-26SEP25\u001b[0m.\n",
      "\u001b[36m2024-12-18 22:13:19,538\u001b[0m - greekMaster.client.fetcher - \u001b[32mINFO\u001b[0m - Loaded 6827 existing data points.\n",
      "\u001b[36m2024-12-18 22:13:19,710\u001b[0m - greekMaster.client.fetcher - \u001b[32mINFO\u001b[0m - Fetched 431 new data points.\n",
      "\u001b[36m2024-12-18 22:13:19,724\u001b[0m - greekMaster.client.fetcher - \u001b[32mINFO\u001b[0m - Fetching data for \u001b[38;5;214mBTC-26SEP25\u001b[0m.\n",
      "\u001b[36m2024-12-18 22:13:19,750\u001b[0m - greekMaster.client.fetcher - \u001b[32mINFO\u001b[0m - Loaded 20480 existing data points.\n",
      "\u001b[36m2024-12-18 22:13:19,934\u001b[0m - greekMaster.client.fetcher - \u001b[32mINFO\u001b[0m - Fetched 1000 new data points.\n",
      "\u001b[36m2024-12-18 22:13:20,098\u001b[0m - greekMaster.client.fetcher - \u001b[32mINFO\u001b[0m - Fetched 293 new data points.\n",
      "\u001b[36m2024-12-18 22:13:20,124\u001b[0m - greekMaster.client.fetcher - \u001b[32mINFO\u001b[0m - Fetching data for \u001b[38;5;214mBTC-26SEP25\u001b[0m.\n",
      "\u001b[36m2024-12-18 22:13:20,191\u001b[0m - greekMaster.client.fetcher - \u001b[32mINFO\u001b[0m - Loaded 102398 existing data points.\n",
      "\u001b[36m2024-12-18 22:13:20,363\u001b[0m - greekMaster.client.fetcher - \u001b[32mINFO\u001b[0m - Fetched 1000 new data points.\n",
      "\u001b[36m2024-12-18 22:13:20,531\u001b[0m - greekMaster.client.fetcher - \u001b[32mINFO\u001b[0m - Fetched 1000 new data points.\n",
      "\u001b[36m2024-12-18 22:13:20,709\u001b[0m - greekMaster.client.fetcher - \u001b[32mINFO\u001b[0m - Fetched 1000 new data points.\n",
      "\u001b[36m2024-12-18 22:13:21,495\u001b[0m - greekMaster.client.fetcher - \u001b[32mINFO\u001b[0m - Fetched 1000 new data points.\n",
      "\u001b[36m2024-12-18 22:13:21,672\u001b[0m - greekMaster.client.fetcher - \u001b[32mINFO\u001b[0m - Fetched 1000 new data points.\n",
      "\u001b[36m2024-12-18 22:13:21,851\u001b[0m - greekMaster.client.fetcher - \u001b[32mINFO\u001b[0m - Fetched 1000 new data points.\n",
      "\u001b[36m2024-12-18 22:13:22,020\u001b[0m - greekMaster.client.fetcher - \u001b[32mINFO\u001b[0m - Fetched 463 new data points.\n",
      "\u001b[36m2024-12-18 22:13:22,113\u001b[0m - greekMaster.client.fetcher - \u001b[32mINFO\u001b[0m - Fetching data for \u001b[38;5;214mBTCUSDT\u001b[0m.\n",
      "\u001b[36m2024-12-18 22:13:22,159\u001b[0m - greekMaster.client.fetcher - \u001b[32mINFO\u001b[0m - Loaded 33914 existing data points.\n",
      "\u001b[36m2024-12-18 22:13:22,322\u001b[0m - greekMaster.client.fetcher - \u001b[32mINFO\u001b[0m - Fetched 431 new data points.\n",
      "\u001b[36m2024-12-18 22:13:22,380\u001b[0m - greekMaster.client.fetcher - \u001b[32mINFO\u001b[0m - Fetching data for \u001b[38;5;214mBTCUSDT\u001b[0m.\n",
      "\u001b[36m2024-12-18 22:13:22,521\u001b[0m - greekMaster.client.fetcher - \u001b[32mINFO\u001b[0m - Loaded 100739 existing data points.\n",
      "\u001b[36m2024-12-18 22:13:22,856\u001b[0m - greekMaster.client.fetcher - \u001b[32mINFO\u001b[0m - Fetched 1000 new data points.\n",
      "\u001b[36m2024-12-18 22:13:23,022\u001b[0m - greekMaster.client.fetcher - \u001b[32mINFO\u001b[0m - Fetching data for \u001b[38;5;214mBTCUSDT\u001b[0m.\n",
      "\u001b[36m2024-12-18 22:13:23,806\u001b[0m - greekMaster.client.fetcher - \u001b[32mINFO\u001b[0m - Loaded 494962 existing data points.\n",
      "\u001b[36m2024-12-18 22:13:23,988\u001b[0m - greekMaster.client.fetcher - \u001b[32mINFO\u001b[0m - Fetched 1000 new data points.\n",
      "\u001b[36m2024-12-18 22:13:24,506\u001b[0m - greekMaster.client.fetcher - \u001b[32mINFO\u001b[0m - Fetching data for \u001b[38;5;214mBTCUSDT\u001b[0m.\n",
      "\u001b[36m2024-12-18 22:13:24,557\u001b[0m - greekMaster.client.fetcher - \u001b[32mINFO\u001b[0m - Loaded 33774 existing data points.\n",
      "\u001b[36m2024-12-18 22:13:24,742\u001b[0m - greekMaster.client.fetcher - \u001b[32mINFO\u001b[0m - Fetched 431 new data points.\n",
      "\u001b[36m2024-12-18 22:13:24,931\u001b[0m - greekMaster.client.fetcher - \u001b[32mINFO\u001b[0m - Fetching data for \u001b[38;5;214mBTCUSDT\u001b[0m.\n",
      "\u001b[36m2024-12-18 22:13:25,183\u001b[0m - greekMaster.client.fetcher - \u001b[32mINFO\u001b[0m - Loaded 100739 existing data points.\n",
      "\u001b[36m2024-12-18 22:13:25,967\u001b[0m - greekMaster.client.fetcher - \u001b[32mINFO\u001b[0m - Fetched 1000 new data points.\n",
      "\u001b[36m2024-12-18 22:13:26,087\u001b[0m - greekMaster.client.fetcher - \u001b[32mINFO\u001b[0m - Fetching data for \u001b[38;5;214mBTCUSDT\u001b[0m.\n",
      "\u001b[36m2024-12-18 22:13:26,675\u001b[0m - greekMaster.client.fetcher - \u001b[32mINFO\u001b[0m - Loaded 502531 existing data points.\n",
      "\u001b[36m2024-12-18 22:13:27,013\u001b[0m - greekMaster.client.fetcher - \u001b[32mINFO\u001b[0m - Fetched 1000 new data points.\n",
      "\u001b[36m2024-12-18 22:13:27,488\u001b[0m - greekMaster.client.fetcher - \u001b[32mINFO\u001b[0m - Fetching data for \u001b[38;5;214mBTCPERP\u001b[0m.\n",
      "\u001b[36m2024-12-18 22:13:27,527\u001b[0m - greekMaster.client.fetcher - \u001b[32mINFO\u001b[0m - Loaded 34075 existing data points.\n",
      "\u001b[36m2024-12-18 22:13:28,186\u001b[0m - greekMaster.client.fetcher - \u001b[32mINFO\u001b[0m - Fetched 431 new data points.\n",
      "\u001b[36m2024-12-18 22:13:28,273\u001b[0m - greekMaster.client.fetcher - \u001b[32mINFO\u001b[0m - Fetching data for \u001b[38;5;214mBTCPERP\u001b[0m.\n",
      "\u001b[36m2024-12-18 22:13:28,526\u001b[0m - greekMaster.client.fetcher - \u001b[32mINFO\u001b[0m - Loaded 101223 existing data points.\n",
      "\u001b[36m2024-12-18 22:13:28,999\u001b[0m - greekMaster.client.fetcher - \u001b[32mINFO\u001b[0m - Fetched 1000 new data points.\n",
      "\u001b[36m2024-12-18 22:13:29,108\u001b[0m - greekMaster.client.fetcher - \u001b[32mINFO\u001b[0m - Fetching data for \u001b[38;5;214mBTCPERP\u001b[0m.\n",
      "\u001b[36m2024-12-18 22:13:29,575\u001b[0m - greekMaster.client.fetcher - \u001b[32mINFO\u001b[0m - Loaded 494383 existing data points.\n",
      "\u001b[36m2024-12-18 22:13:29,911\u001b[0m - greekMaster.client.fetcher - \u001b[32mINFO\u001b[0m - Fetched 1000 new data points.\n"
     ]
    }
   ],
   "source": [
    "# Future contracts\n",
    "await master.client.fetcher.save_klines(dest=\"store\")"
   ]
  },
  {
   "cell_type": "markdown",
   "metadata": {},
   "source": [
    "## Plot testing\n",
    "\n",
    "Part to test the plot of the data.\n"
   ]
  },
  {
   "cell_type": "code",
   "execution_count": null,
   "metadata": {},
   "outputs": [],
   "source": [
    "# Yes\n",
    "master.client.fetcher.get_futureNames(quoteCoins=[\"USDT\"])\n"
   ]
  },
  {
   "cell_type": "markdown",
   "metadata": {},
   "source": [
    "## Long Spot x Short Future\n",
    "\n",
    "Spot USDC is 0% fees and Future is 0.0550% taker fees (0% with contract delivery).\n",
    "Problem is that spot cannot be used with leverage. Could borrow but that would be awkward. (tried it)"
   ]
  },
  {
   "cell_type": "code",
   "execution_count": null,
   "metadata": {},
   "outputs": [],
   "source": [
    "Bybit.utils.load_klines_parquet(\"store/BTCUSDT_1.parquet\", pretty=True)\n",
    "\n",
    "Bybit.utils.plot_compare(\"store/BTCUSDT_1.parquet\", \"store/BTC-28FEB25_1.parquet\")"
   ]
  },
  {
   "cell_type": "code",
   "execution_count": null,
   "metadata": {},
   "outputs": [],
   "source": [
    "# Long position, then short position\n",
    "Bybit.utils.plot_compare(\"store/BTCUSDT_1.parquet\", \"store/BTC-15NOV24_1.parquet\")"
   ]
  },
  {
   "cell_type": "markdown",
   "metadata": {},
   "source": [
    "## Long Perpetual x Short Future\n",
    "\n",
    "Perpetual USDT is 0.0550% taker fees and Future is 0.0550% taker fees (0% with contract delivery).\n",
    "Yes we have fees, but wen can use leverage on both sides.\n",
    "\n",
    "We use Perpetual USDT because there is more liquidity."
   ]
  },
  {
   "cell_type": "code",
   "execution_count": null,
   "metadata": {},
   "outputs": [],
   "source": [
    "Bybit.utils.plot_compare(\"store/BTCPERP_5.parquet\", \"store/BTC-29NOV24_5.parquet\")"
   ]
  },
  {
   "cell_type": "code",
   "execution_count": null,
   "metadata": {},
   "outputs": [],
   "source": [
    "Bybit.utils.plot_compare(\"store/BTCUSDT_5.parquet\", \"store/BTC-29NOV24_5.parquet\")"
   ]
  },
  {
   "cell_type": "markdown",
   "metadata": {},
   "source": [
    "## Long Spot x Short Inverse Future\n",
    "\n",
    "What if I buy spot and collateralize it to short inverse future?\n",
    "We effectively capture the difference."
   ]
  },
  {
   "cell_type": "code",
   "execution_count": null,
   "metadata": {},
   "outputs": [],
   "source": [
    "# Keep going when get_history_pd file names are changed"
   ]
  },
  {
   "cell_type": "markdown",
   "metadata": {},
   "source": [
    "## OKX 20x Leverage test\n",
    "\n",
    "I launched a test with OKX with a short on BTCUSDT-27JUN25 and long on BTCUSDT-29NOV24.\n",
    "\n",
    "Following section will track the the two contracts' data"
   ]
  },
  {
   "cell_type": "code",
   "execution_count": null,
   "metadata": {},
   "outputs": [],
   "source": [
    "Bybit.utils.plot_compare(\"store/BTC-29NOV24_15.parquet\", \"store/BTC-27JUN25_15.parquet\", dateLimit=\"2024-05-06\")"
   ]
  }
 ],
 "metadata": {
  "kernelspec": {
   "display_name": "sandbox",
   "language": "python",
   "name": "python3"
  },
  "language_info": {
   "codemirror_mode": {
    "name": "ipython",
    "version": 3
   },
   "file_extension": ".py",
   "mimetype": "text/x-python",
   "name": "python",
   "nbconvert_exporter": "python",
   "pygments_lexer": "ipython3",
   "version": "3.10.14"
  }
 },
 "nbformat": 4,
 "nbformat_minor": 2
}
