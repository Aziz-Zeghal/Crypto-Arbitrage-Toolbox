{
 "cells": [
  {
   "cell_type": "markdown",
   "metadata": {},
   "source": [
    "# Showcase of bybit Future - Future calc\n",
    "The bybitmaster has custom methods that I coded, but can also make normal request to the bybit API with the session attribute."
   ]
  },
  {
   "cell_type": "code",
   "execution_count": null,
   "metadata": {},
   "outputs": [],
   "source": [
    "import bybit.simulator\n",
    "import bybit.utils\n",
    "from bybit.client import UlysseSpotFut\n",
    "from bybit.greek_master import GreekMaster\n",
    "\n",
    "bybit.utils.ColorFormatter.configure_logging(run_name=\"notebook.log\", verbose=1)\n",
    "\n",
    "# Create a bybit master\n",
    "master = GreekMaster(client=UlysseSpotFut(demo=True))\n",
    "sim = bybit.simulator.Simulator()"
   ]
  },
  {
   "cell_type": "code",
   "execution_count": null,
   "metadata": {},
   "outputs": [],
   "source": [
    "# Get all futures BTC gaps\n",
    "DataWrangler = master.fetcher.all_gaps_pd(coin=\"BTC\",inverse=False, spot=False, perpetual=True, applyFees=True, quoteCoins=[\"USDC\"])\n",
    "\n",
    "# Format the DataFrame\n",
    "pretty = True\n",
    "if pretty:\n",
    "    DataWrangler[\"Gap\"] = DataWrangler[\"Gap\"].map(lambda x: f\"$ {x:.2f}\")\n",
    "    DataWrangler[\"Coeff\"] = DataWrangler[\"Coeff\"].map(lambda x: f\"{x:.2f} %\")\n",
    "    DataWrangler[\"APR\"] = DataWrangler[\"APR\"].map(lambda x: f\"{x:.2f} %\")\n",
    "    DataWrangler[\"CumVolume\"] = DataWrangler[\"CumVolume\"].map(bybit.utils.format_volume)\n",
    "\n",
    "DataWrangler\n",
    "\n",
    "# get_history_pd has to take funding rate for perpetual contracts\n",
    "# Then, merge on startTime.\n",
    "\n",
    "# Maybe make a new function with the funding_rate + expiry of the contract\n",
    "# Make a full position calculator: given 2 contracts, what we are supposed to make at the end.\n",
    "# With this, a simulator tool to visualize it.\n",
    "\n",
    "# Finally, change the simulator to include cumulative funding_rate + funding_rate value"
   ]
  },
  {
   "cell_type": "markdown",
   "metadata": {},
   "source": [
    "## Tester\n",
    "Just to run some tests"
   ]
  },
  {
   "cell_type": "code",
   "execution_count": null,
   "metadata": {},
   "outputs": [],
   "source": [
    "# 1 - Simple enter position logic (given a future and a perpetual)\n",
    "# 2 - Simple exit position logic (given a future and a perpetual). Can also exit when reaching a satisfying unexpected gap\n",
    "# 3 - Logic to activate both operations (given a future and a perpetual). Enter again when reaching a satisfying unexpected gap\n",
    "# 4 - Logic to find the best future and perpetual to trade\n",
    "# 5 - Logic to keep the loop running\n",
    "# 6 - Monitoring features\n",
    "# 7 - Use systemctl to launch 24/7\n",
    "# We use sockets, once we selected the best local future, compared to their average gap.\n",
    "# Shared state to store the latest updates\n",
    "import datetime\n",
    "\n",
    "print(datetime.datetime.now(tz=datetime.UTC).microsecond)\n",
    "(1734816631000 - datetime.datetime.now(tz=datetime.UTC).microsecond) / 1000"
   ]
  },
  {
   "cell_type": "code",
   "execution_count": null,
   "metadata": {},
   "outputs": [],
   "source": [
    "master.fetcher.get_linearNames(inverse=True)"
   ]
  },
  {
   "cell_type": "markdown",
   "metadata": {},
   "source": [
    "## Fetching time :)\n",
    "\n",
    "Getting 15, 5 and 1 minute candles for everything since 01/01/2024"
   ]
  },
  {
   "cell_type": "code",
   "execution_count": null,
   "metadata": {},
   "outputs": [],
   "source": [
    "# Future contracts\n",
    "await master.client.fetcher.save_klines(dest=\"store\")"
   ]
  },
  {
   "cell_type": "code",
   "execution_count": null,
   "metadata": {},
   "outputs": [],
   "source": [
    "await master.client.fetcher.get_history_pd(\"BTC-14FEB25\", category=\"linear\", interval=\"15\", dest=\"store\")\n",
    "await master.client.fetcher.get_history_pd(\"BTC-14FEB25\", category=\"linear\", interval=\"5\", dest=\"store\")\n",
    "await master.client.fetcher.get_history_pd(\"BTC-14FEB25\", category=\"linear\", interval=\"1\", dest=\"store\")\n",
    "\n",
    "# master.client.fetcher.session.get_instruments_info(symbol=\"BTCUSDH25\", category=\"inverse\")\n",
    "\n",
    "# bybit.utils.get_date(1743148800000)\n",
    "# start = bybit.utils.get_date(1726214400000)"
   ]
  },
  {
   "cell_type": "markdown",
   "metadata": {},
   "source": [
    "## Long Spot x Short Future\n",
    "\n",
    "Spot USDC is 0% fees and Future is 0.0550% taker fees (0% with contract delivery).\n",
    "Problem is that spot cannot be used with leverage. Could borrow but that would be awkward. (tried it)"
   ]
  },
  {
   "cell_type": "code",
   "execution_count": null,
   "metadata": {},
   "outputs": [],
   "source": [
    "bybit.utils.load_klines_parquet(\"store/BTC-20DEC24_1.parquet\", pretty=True)\n",
    "\n",
    "sim.plot_compare(\"store/BTCUSDT_1.parquet\", \"store/BTC-14FEB25_1.parquet\")"
   ]
  },
  {
   "cell_type": "code",
   "execution_count": null,
   "metadata": {},
   "outputs": [],
   "source": [
    "# Long position, then short position\n",
    "sim.plot_compare(\"store/BTCUSDT_1.parquet\", \"store/BTC-15NOV24_1.parquet\", draw_funding=False, draw_gap=True)"
   ]
  },
  {
   "cell_type": "markdown",
   "metadata": {},
   "source": [
    "## Long Perpetual x Short Future\n",
    "\n",
    "Perpetual USDT is 0.0550% taker fees and Future is 0.0550% taker fees (0% with contract delivery).\n",
    "Yes we have fees, but wen can use leverage on both sides.\n",
    "\n",
    "We use Perpetual USDT because there is more liquidity."
   ]
  },
  {
   "cell_type": "code",
   "execution_count": null,
   "metadata": {},
   "outputs": [],
   "source": [
    "sim.plot_compare(\"store/BTCPERP_5.parquet\", \"store/BTC-29NOV24_5.parquet\")"
   ]
  },
  {
   "cell_type": "code",
   "execution_count": null,
   "metadata": {},
   "outputs": [],
   "source": [
    "sim.plot_compare(\"store/BTCUSDT_5.parquet\", \"store/BTC-29NOV24_5.parquet\")"
   ]
  },
  {
   "cell_type": "markdown",
   "metadata": {},
   "source": [
    "## Long Spot x Short Inverse Future\n",
    "\n",
    "What if I buy spot and collateralize it to short inverse future?\n",
    "We effectively capture the difference."
   ]
  },
  {
   "cell_type": "code",
   "execution_count": null,
   "metadata": {},
   "outputs": [],
   "source": [
    "# Keep going when get_history_pd file names are changed"
   ]
  }
 ],
 "metadata": {
  "kernelspec": {
   "display_name": "sandbox",
   "language": "python",
   "name": "python3"
  },
  "language_info": {
   "codemirror_mode": {
    "name": "ipython",
    "version": 3
   },
   "file_extension": ".py",
   "mimetype": "text/x-python",
   "name": "python",
   "nbconvert_exporter": "python",
   "pygments_lexer": "ipython3",
   "version": "3.13.1"
  }
 },
 "nbformat": 4,
 "nbformat_minor": 2
}
